{
 "cells": [
  {
   "cell_type": "code",
   "execution_count": 1,
   "metadata": {
    "collapsed": true
   },
   "outputs": [],
   "source": [
    "# coding=utf-8\n",
    "# 使python可以讀取中文\n",
    "import requests\n",
    "import json\n",
    "import time\n",
    "import os\n",
    "import Levenshtein\n",
    "from fuzzywuzzy import fuzz"
   ]
  },
  {
   "cell_type": "code",
   "execution_count": 3,
   "metadata": {
    "collapsed": true
   },
   "outputs": [],
   "source": [
    "ifName   ='梁記麻辣火鍋冰棒豆腐'\n",
    "orName   ='桔園'\n",
    "orName2  ='火鍋冰棒豆腐'\n",
    "orName3  ='梁記'\n",
    "orName4  ='梁記麻辣火鍋'\n",
    "orName5  ='梁記石頭火鍋'\n",
    "orName6  ='梁記火鍋'"
   ]
  },
  {
   "cell_type": "code",
   "execution_count": 6,
   "metadata": {
    "collapsed": false
   },
   "outputs": [
    {
     "name": "stdout",
     "output_type": "stream",
     "text": [
      "jaro_winkler\n",
      "桔園 : 0.7\n",
      "火鍋冰棒豆腐 : 0.374074074074\n",
      "梁記 : 1.0\n",
      "梁記麻辣火鍋 : 1.0\n",
      "梁記石頭火鍋 : 1.0\n",
      "梁記火鍋 : 1.0\n"
     ]
    }
   ],
   "source": [
    "print  'jaro_winkler'\n",
    "print  orName,':',Levenshtein.jaro_winkler(ifName, orName, 0.5)\n",
    "print  orName2,':',Levenshtein.jaro_winkler(ifName, orName2, 0.5)\n",
    "print  orName3,':',Levenshtein.jaro_winkler(ifName, orName3, 0.5)\n",
    "print  orName4,':',Levenshtein.jaro_winkler(ifName, orName4, 0.5)\n",
    "print  orName5,':',Levenshtein.jaro_winkler(ifName, orName5, 0.5)\n",
    "print  orName6,':',Levenshtein.jaro_winkler(ifName, orName6, 0.5)\n",
    "\n",
    "\n"
   ]
  },
  {
   "cell_type": "code",
   "execution_count": 5,
   "metadata": {
    "collapsed": false
   },
   "outputs": [
    {
     "name": "stdout",
     "output_type": "stream",
     "text": [
      "distance\n",
      "桔園 : 27\n",
      "火鍋冰棒豆腐 : 12\n",
      "梁記 : 24\n",
      "梁記麻辣火鍋 : 12\n",
      "梁記石頭火鍋 : 18\n",
      "梁記火鍋 : 18\n"
     ]
    }
   ],
   "source": [
    "print  'distance'\n",
    "print  orName,':',Levenshtein.distance(ifName, orName)\n",
    "print  orName2,':',Levenshtein.distance(ifName, orName2)\n",
    "print  orName3,':',Levenshtein.distance(ifName, orName3)\n",
    "print  orName4,':',Levenshtein.distance(ifName, orName4)\n",
    "print  orName5,':',Levenshtein.distance(ifName, orName5)\n",
    "print  orName6,':',Levenshtein.distance(ifName, orName6)"
   ]
  },
  {
   "cell_type": "code",
   "execution_count": null,
   "metadata": {
    "collapsed": true
   },
   "outputs": [],
   "source": []
  }
 ],
 "metadata": {
  "kernelspec": {
   "display_name": "Python 2",
   "language": "python",
   "name": "python2"
  },
  "language_info": {
   "codemirror_mode": {
    "name": "ipython",
    "version": 2
   },
   "file_extension": ".py",
   "mimetype": "text/x-python",
   "name": "python",
   "nbconvert_exporter": "python",
   "pygments_lexer": "ipython2",
   "version": "2.7.11"
  }
 },
 "nbformat": 4,
 "nbformat_minor": 0
}
