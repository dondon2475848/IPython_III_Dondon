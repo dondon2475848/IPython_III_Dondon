{
 "cells": [
  {
   "cell_type": "markdown",
   "metadata": {},
   "source": [
    " \n",
    "# 終端機\n",
    "### 安裝完成後, 執行以下指令啟動 MariaDB:\n",
    "sudo service mysql start\n",
    "或\n",
    "sudo systemctl start mysql.service\n",
    "\n",
    "### 要測試 MariaDB 是否成功安裝, 可以用以下指令連接:\n",
    "mysql -u root -p\n",
    "### 如果輸入密碼後成功連接, 那就表示安裝成功了。\n",
    "\n"
   ]
  },
  {
   "cell_type": "markdown",
   "metadata": {},
   "source": [
    "# 連接MariaDB\n"
   ]
  },
  {
   "cell_type": "code",
   "execution_count": 1,
   "metadata": {
    "collapsed": true
   },
   "outputs": [],
   "source": [
    "# coding=utf-8\n",
    "# import\n",
    "import time"
   ]
  },
  {
   "cell_type": "code",
   "execution_count": 2,
   "metadata": {
    "collapsed": true
   },
   "outputs": [],
   "source": [
    "#Def\n",
    "def jsonDump(dataIn):\n",
    "    print json.dumps(dataIn,ensure_ascii=False).encode('utf-8')"
   ]
  },
  {
   "cell_type": "markdown",
   "metadata": {},
   "source": [
    "### 先至終端機輸入 pip install mysql-connector-python-rf"
   ]
  },
  {
   "cell_type": "code",
   "execution_count": 3,
   "metadata": {
    "collapsed": false
   },
   "outputs": [],
   "source": [
    "import mysql.connector as mariadb"
   ]
  },
  {
   "cell_type": "code",
   "execution_count": 4,
   "metadata": {
    "collapsed": true
   },
   "outputs": [],
   "source": [
    "mariaDb = mariadb.connect(user='root', password='1234', database='ab101group4')\n",
    "cursor = mariaDb.cursor()"
   ]
  },
  {
   "cell_type": "markdown",
   "metadata": {
    "collapsed": true
   },
   "source": [
    "### Creating Database Table (Drop table if it already exist )"
   ]
  },
  {
   "cell_type": "code",
   "execution_count": 22,
   "metadata": {
    "collapsed": false
   },
   "outputs": [],
   "source": [
    "mariaDb = mariadb.connect(user='root', password='1234', database='ab101group4')\n",
    "\n",
    "# prepare a cursor object using cursor() method\n",
    "cursor = mariaDb.cursor()\n",
    "\n",
    "# Drop table if it already exist using execute() method.\n",
    "cursor.execute(\"DROP TABLE IF EXISTS users\")\n",
    "\n",
    "# Create table as per requirement\n",
    "# display_name 有空值 不能定義為 not NULL\n",
    "sql = \"\"\"create table users (\n",
    "         _id varchar(50) not NULL,\n",
    "         display_name  nvarchar(150) ,\n",
    "         fav_cnt int,\n",
    "         follower_cnt int,\n",
    "         following_cnt int,\n",
    "         post_cnt int,\n",
    "         profile_pic_origin nvarchar(2000) ,\n",
    "         browse_cnt int,\n",
    "         checkin_cnt int,\n",
    "         certified varchar(20),\n",
    "         timestamp numeric(25,5),\n",
    "         page_rank numeric(32,30),\n",
    "         \n",
    "         blog_cnt_by_roast_chicken   int,\n",
    "         blog_cnt_by_barbecue   int,\n",
    "         blog_cnt_by_seafood   int,\n",
    "         blog_cnt_by_brunch   int,\n",
    "         blog_cnt_by_banquet   int,\n",
    "         blog_cnt_by_bar   int,\n",
    "         blog_cnt_by_japanese_food   int,\n",
    "         blog_cnt_by_continental_food   int,\n",
    "         blog_cnt_by_southeast_asia_food   int,\n",
    "         blog_cnt_by_mutton_beef_hotpot   int,\n",
    "         blog_cnt_by_chophouse   int,\n",
    "         blog_cnt_by_korea_food   int,\n",
    "         blog_cnt_by_vegetable_food   int,\n",
    "         blog_cnt_by_hongKong_food   int,\n",
    "         blog_cnt_by_Other   int,\n",
    "         blog_cnt_by_dessert_ice_drink_bakery   int,\n",
    "         blog_cnt_by_themed_restaurant   int,\n",
    "         blog_cnt_by_taiwanses_Food   int,\n",
    "         blog_cnt_by_buffet   int,\n",
    "         blog_cnt_by_hotpot   int,\n",
    "         blog_cnt_by_light_meal_afternoon_tea   int,\n",
    "         \n",
    "         between_zscore_roast_chicken   numeric(25,20),\n",
    "         between_zscore_barbecue   numeric(25,20),\n",
    "         between_zscore_seafood   numeric(25,20),\n",
    "         between_zscore_brunch   numeric(25,20),\n",
    "         between_zscore_banquet   numeric(25,20),\n",
    "         between_zscore_bar   numeric(25,20),\n",
    "         between_zscore_japanese_food   numeric(25,20),\n",
    "         between_zscore_continental_food   numeric(25,20),\n",
    "         between_zscore_southeast_asia_food   numeric(25,20),\n",
    "         between_zscore_mutton_beef_hotpot   numeric(25,20),\n",
    "         between_zscore_chophouse   numeric(25,20),\n",
    "         between_zscore_korea_food   numeric(25,20),\n",
    "         between_zscore_vegetable_food   numeric(25,20),\n",
    "         between_zscore_hongKong_food   numeric(25,20),\n",
    "         between_zscore_Other   numeric(25,20),\n",
    "         between_zscore_dessert_ice_drink_bakery   numeric(25,20),\n",
    "         between_zscore_themed_restaurant   numeric(25,20),\n",
    "         between_zscore_taiwanses_Food   numeric(25,20),\n",
    "         between_zscore_buffet   numeric(25,20),\n",
    "         between_zscore_hotpot   numeric(25,20),\n",
    "         between_zscore_light_meal_afternoon_tea   numeric(25,20),\n",
    "\n",
    "         within_zscore_roast_chicken   numeric(25,20),\n",
    "         within_zscore_barbecue   numeric(25,20),\n",
    "         within_zscore_seafood   numeric(25,20),\n",
    "         within_zscore_brunch   numeric(25,20),\n",
    "         within_zscore_banquet   numeric(25,20),\n",
    "         within_zscore_bar   numeric(25,20),\n",
    "         within_zscore_japanese_food   numeric(25,20),\n",
    "         within_zscore_continental_food   numeric(25,20),\n",
    "         within_zscore_southeast_asia_food   numeric(25,20),\n",
    "         within_zscore_mutton_beef_hotpot   numeric(25,20),\n",
    "         within_zscore_chophouse   numeric(25,20),\n",
    "         within_zscore_korea_food   numeric(25,20),\n",
    "         within_zscore_vegetable_food   numeric(25,20),\n",
    "         within_zscore_hongKong_food   numeric(25,20),\n",
    "         within_zscore_Other   numeric(25,20),\n",
    "         within_zscore_dessert_ice_drink_bakery   numeric(25,20),\n",
    "         within_zscore_themed_restaurant   numeric(25,20),\n",
    "         within_zscore_taiwanses_Food   numeric(25,20),\n",
    "         within_zscore_buffet   numeric(25,20),\n",
    "         within_zscore_hotpot   numeric(25,20),\n",
    "         within_zscore_light_meal_afternoon_tea   numeric(25,20)\n",
    "         )\"\"\"\n",
    "         \n",
    "         \n",
    "\n",
    "\n",
    "cursor.execute(sql)\n",
    "\n",
    "# disconnect from server\n",
    "mariaDb.close()"
   ]
  },
  {
   "cell_type": "markdown",
   "metadata": {},
   "source": [
    "u'烤雞/烤鴨'\t\t\troast_chicken\n",
    "u'串燒/碳烤/居酒屋/燒烤'\tbarbecue\n",
    "u'海產/熱炒餐廳'\t\tseafood\n",
    "u'美式餐廳/早午餐'\t\tbrunch\n",
    "u'合菜'\t\t\t\tbanquet\n",
    "u'酒吧/餐酒館'\t\t\tbar\n",
    "u'日式料理'\t\t\tjapanese_food\n",
    "u'義式/歐風/異國'\t\tcontinental_food\n",
    "u'東南亞料理'\t\t\tsoutheast_asia_food\n",
    "u'羊肉爐/牛肉湯'\t\tmutton_beef_hotpot\n",
    "u'牛排館/鐵板燒'  \t\tchophouse\n",
    "u'韓式料理'\t\t\tkorea_food\n",
    "u'素食/蔬食'\t\t\tvegetable_food\n",
    "u'港式餐廳'\t\t\thongKong_food\n",
    "u'其他'\t\t\t\tOther\n",
    "u'甜點/冰品/飲料/烘培'\t\tdessert_ice_drink_bakery\n",
    "u'主題/景觀餐廳'\t\tthemed_restaurant\n",
    "u'台式/中式/小吃'\t\ttaiwanses_Food \n",
    "u'自助餐'\t\t\tbuffet\n",
    "u'鍋類'\t\t\t\thotpot\n",
    "u'咖啡/輕食/下午茶'\t\tlight_meal_afternoon_tea"
   ]
  },
  {
   "cell_type": "code",
   "execution_count": 6,
   "metadata": {
    "collapsed": false
   },
   "outputs": [
    {
     "name": "stdout",
     "output_type": "stream",
     "text": [
      "294634\n"
     ]
    }
   ],
   "source": [
    "#讀取 user data\n",
    "import json\n",
    "with open('./data/UserWithFoodType.json','r') as f:\n",
    "    uDic=json.load(f)\n",
    "print len(uDic) #294634 筆（約29.5萬筆）"
   ]
  },
  {
   "cell_type": "markdown",
   "metadata": {},
   "source": [
    "### INSERT Operation"
   ]
  },
  {
   "cell_type": "code",
   "execution_count": 23,
   "metadata": {
    "collapsed": false
   },
   "outputs": [
    {
     "name": "stdout",
     "output_type": "stream",
     "text": [
      "總共花了 944.831631899 秒\n"
     ]
    }
   ],
   "source": [
    "mariaDb = mariadb.connect(user='root', password='1234', database='ab101group4')\n",
    "# prepare a cursor object using cursor() method\n",
    "cursor = mariaDb.cursor()\n",
    "\n",
    "startTime = time.time()\n",
    "\n",
    "# Prepare SQL query to INSERT a record into the database.\n",
    "insert_User = ( \"insert into users \"\n",
    "                      \"(_id,display_name,fav_cnt,follower_cnt,following_cnt,post_cnt,profile_pic_origin,browse_cnt,checkin_cnt,certified,timestamp,page_rank,\\\n",
    "                        blog_cnt_by_roast_chicken , blog_cnt_by_barbecue , blog_cnt_by_seafood , blog_cnt_by_brunch , blog_cnt_by_banquet , blog_cnt_by_bar , \\\n",
    "                        blog_cnt_by_japanese_food , blog_cnt_by_continental_food , blog_cnt_by_southeast_asia_food , blog_cnt_by_mutton_beef_hotpot , blog_cnt_by_chophouse ,\\\n",
    "                        blog_cnt_by_korea_food , blog_cnt_by_vegetable_food , blog_cnt_by_hongKong_food , blog_cnt_by_Other , blog_cnt_by_dessert_ice_drink_bakery ,\\\n",
    "                        blog_cnt_by_themed_restaurant , blog_cnt_by_taiwanses_Food , blog_cnt_by_buffet , blog_cnt_by_hotpot , blog_cnt_by_light_meal_afternoon_tea ,\\\n",
    "                        \\\n",
    "                        between_zscore_roast_chicken , between_zscore_barbecue , between_zscore_seafood , between_zscore_brunch , between_zscore_banquet , between_zscore_bar , \\\n",
    "                        between_zscore_japanese_food , between_zscore_continental_food , between_zscore_southeast_asia_food , between_zscore_mutton_beef_hotpot , between_zscore_chophouse ,\\\n",
    "                        between_zscore_korea_food , between_zscore_vegetable_food , between_zscore_hongKong_food , between_zscore_Other , between_zscore_dessert_ice_drink_bakery ,\\\n",
    "                        between_zscore_themed_restaurant , between_zscore_taiwanses_Food , between_zscore_buffet , between_zscore_hotpot , between_zscore_light_meal_afternoon_tea ,\\\n",
    "                        \\\n",
    "                        within_zscore_roast_chicken , within_zscore_barbecue , within_zscore_seafood , within_zscore_brunch , within_zscore_banquet , within_zscore_bar , \\\n",
    "                        within_zscore_japanese_food , within_zscore_continental_food , within_zscore_southeast_asia_food , within_zscore_mutton_beef_hotpot , within_zscore_chophouse ,\\\n",
    "                        within_zscore_korea_food , within_zscore_vegetable_food , within_zscore_hongKong_food , within_zscore_Other , within_zscore_dessert_ice_drink_bakery ,\\\n",
    "                        within_zscore_themed_restaurant , within_zscore_taiwanses_Food , within_zscore_buffet , within_zscore_hotpot , within_zscore_light_meal_afternoon_tea \\\n",
    "                     )\"\n",
    "                      \"values(%s, %s, %s, %s, %s, %s, %s, %s, %s, %s, %s, %s,\\\n",
    "                                    %s, %s, %s, %s, %s, %s, %s, %s, %s, %s, %s, %s, %s, %s, %s, %s, %s, %s, %s, %s, %s,\\\n",
    "                                    %s, %s, %s, %s, %s, %s, %s, %s, %s, %s, %s, %s, %s, %s, %s, %s, %s, %s, %s, %s, %s,\\\n",
    "                                    %s, %s, %s, %s, %s, %s, %s, %s, %s, %s, %s, %s, %s, %s, %s, %s, %s, %s, %s, %s, %s\\\n",
    "                                   )\"\n",
    "                     )\n",
    "startIndex =   0\n",
    "endIndex   =   len(uDic)\n",
    "for user in uDic.keys()[ startIndex : endIndex ]:\n",
    "    #jsonDump(uDic[user])\n",
    "    user_Data = (uDic[user]['_id'],uDic[user]['display_name'],uDic[user]['fav_cnt'],uDic[user]['follower_cnt'],\n",
    "                            uDic[user]['following_cnt'],uDic[user]['post_cnt'],uDic[user]['profile_pic_origin'],uDic[user]['browse_cnt'],\n",
    "                            uDic[user]['checkin_cnt'],uDic[user]['certified'],uDic[user]['timestamp'],uDic[user]['page_rank'],\n",
    "\n",
    "                            uDic[user]['blog_cnt_by_type'][u'烤雞/烤鴨'] ,uDic[user]['blog_cnt_by_type'][u'串燒/碳烤/居酒屋/燒烤'],uDic[user]['blog_cnt_by_type'][u'海產/熱炒餐廳'],\n",
    "                            uDic[user]['blog_cnt_by_type'][u'美式餐廳/早午餐'] ,uDic[user]['blog_cnt_by_type'][u'合菜'],uDic[user]['blog_cnt_by_type'][u'酒吧/餐酒館'],\n",
    "                            uDic[user]['blog_cnt_by_type'][u'日式料理'] ,uDic[user]['blog_cnt_by_type'][u'義式/歐風/異國'],uDic[user]['blog_cnt_by_type'][u'東南亞料理'],\n",
    "                            uDic[user]['blog_cnt_by_type'][u'羊肉爐/牛肉湯'] ,uDic[user]['blog_cnt_by_type'][u'牛排館/鐵板燒'],uDic[user]['blog_cnt_by_type'][u'韓式料理'],\n",
    "                            uDic[user]['blog_cnt_by_type'][u'素食/蔬食'] ,uDic[user]['blog_cnt_by_type'][u'港式餐廳'],uDic[user]['blog_cnt_by_type'][u'其他'],\n",
    "                            uDic[user]['blog_cnt_by_type'][u'甜點/冰品/飲料/烘培'] ,uDic[user]['blog_cnt_by_type'][u'主題/景觀餐廳'],uDic[user]['blog_cnt_by_type'][u'台式/中式/小吃'],\n",
    "                            uDic[user]['blog_cnt_by_type'][u'自助餐'] ,uDic[user]['blog_cnt_by_type'][u'鍋類'],uDic[user]['blog_cnt_by_type'][u'咖啡/輕食/下午茶'],\n",
    "\n",
    "                            uDic[user]['between_zscore'][u'烤雞/烤鴨'] ,uDic[user]['between_zscore'][u'串燒/碳烤/居酒屋/燒烤'],uDic[user]['between_zscore'][u'海產/熱炒餐廳'],\n",
    "                            uDic[user]['between_zscore'][u'美式餐廳/早午餐'] ,uDic[user]['between_zscore'][u'合菜'],uDic[user]['between_zscore'][u'酒吧/餐酒館'],\n",
    "                            uDic[user]['between_zscore'][u'日式料理'] ,uDic[user]['between_zscore'][u'義式/歐風/異國'],uDic[user]['between_zscore'][u'東南亞料理'],\n",
    "                            uDic[user]['between_zscore'][u'羊肉爐/牛肉湯'] ,uDic[user]['between_zscore'][u'牛排館/鐵板燒'],uDic[user]['between_zscore'][u'韓式料理'],\n",
    "                            uDic[user]['between_zscore'][u'素食/蔬食'] ,uDic[user]['between_zscore'][u'港式餐廳'],uDic[user]['between_zscore'][u'其他'],\n",
    "                            uDic[user]['between_zscore'][u'甜點/冰品/飲料/烘培'] ,uDic[user]['between_zscore'][u'主題/景觀餐廳'],uDic[user]['between_zscore'][u'台式/中式/小吃'],\n",
    "                            uDic[user]['between_zscore'][u'自助餐'] ,uDic[user]['between_zscore'][u'鍋類'],uDic[user]['between_zscore'][u'咖啡/輕食/下午茶'],\n",
    "\n",
    "                            uDic[user]['within_zscore'][u'烤雞/烤鴨'] ,uDic[user]['within_zscore'][u'串燒/碳烤/居酒屋/燒烤'],uDic[user]['within_zscore'][u'海產/熱炒餐廳'],\n",
    "                            uDic[user]['within_zscore'][u'美式餐廳/早午餐'] ,uDic[user]['within_zscore'][u'合菜'],uDic[user]['within_zscore'][u'酒吧/餐酒館'],\n",
    "                            uDic[user]['within_zscore'][u'日式料理'] ,uDic[user]['within_zscore'][u'義式/歐風/異國'],uDic[user]['within_zscore'][u'東南亞料理'],\n",
    "                            uDic[user]['within_zscore'][u'羊肉爐/牛肉湯'] ,uDic[user]['within_zscore'][u'牛排館/鐵板燒'],uDic[user]['within_zscore'][u'韓式料理'],\n",
    "                            uDic[user]['within_zscore'][u'素食/蔬食'] ,uDic[user]['within_zscore'][u'港式餐廳'],uDic[user]['within_zscore'][u'其他'],\n",
    "                            uDic[user]['within_zscore'][u'甜點/冰品/飲料/烘培'] ,uDic[user]['within_zscore'][u'主題/景觀餐廳'],uDic[user]['within_zscore'][u'台式/中式/小吃'],\n",
    "                            uDic[user]['within_zscore'][u'自助餐'] ,uDic[user]['within_zscore'][u'鍋類'],uDic[user]['within_zscore'][u'咖啡/輕食/下午茶'],\n",
    "                    )\n",
    "    #print user_Data\n",
    "    # Insert new employee\n",
    "    try:\n",
    "       # Execute the SQL command\n",
    "       cursor.execute(insert_User, user_Data)\n",
    "       # Commit your changes in the database\n",
    "       mariaDb.commit()\n",
    "    except:\n",
    "       # Rollback in case there is any error\n",
    "        print \"Rollback in case there is any error\"\n",
    "        print user_Data\n",
    "        mariaDb.rollback()\n",
    "    \n",
    "# disconnect from server\n",
    "mariaDb.close()\n",
    "\n",
    "endTime = time.time()\n",
    "print '總共花了', endTime-startTime , '秒'\n"
   ]
  },
  {
   "cell_type": "markdown",
   "metadata": {
    "collapsed": false
   },
   "source": [
    "u'烤雞/烤鴨'\t\t\troast_chicken\n",
    "u'串燒/碳烤/居酒屋/燒烤'\tbarbecue\n",
    "u'海產/熱炒餐廳'\t\tseafood\n",
    "u'美式餐廳/早午餐'\t\tbrunch\n",
    "u'合菜'\t\t\t\tbanquet\n",
    "u'酒吧/餐酒館'\t\t\tbar\n",
    "u'日式料理'\t\t\tjapanese_food\n",
    "u'義式/歐風/異國'\t\tcontinental_food\n",
    "u'東南亞料理'\t\t\tsoutheast_asia_food\n",
    "u'羊肉爐/牛肉湯'\t\tmutton_beef_hotpot\n",
    "u'牛排館/鐵板燒'  \t\tchophouse\n",
    "u'韓式料理'\t\t\tkorea_food\n",
    "u'素食/蔬食'\t\t\tvegetable_food\n",
    "u'港式餐廳'\t\t\thongKong_food\n",
    "u'其他'\t\t\t\tOther\n",
    "u'甜點/冰品/飲料/烘培'\t\tdessert_ice_drink_bakery\n",
    "u'主題/景觀餐廳'\t\tthemed_restaurant\n",
    "u'台式/中式/小吃'\t\ttaiwanses_Food \n",
    "u'自助餐'\t\t\tbuffet\n",
    "u'鍋類'\t\t\t\thotpot\n",
    "u'咖啡/輕食/下午茶'\t\tlight_meal_afternoon_tea"
   ]
  },
  {
   "cell_type": "markdown",
   "metadata": {
    "collapsed": false
   },
   "source": [
    "### Insert 單筆"
   ]
  },
  {
   "cell_type": "code",
   "execution_count": 20,
   "metadata": {
    "collapsed": false
   },
   "outputs": [
    {
     "name": "stdout",
     "output_type": "stream",
     "text": [
      "總共花了 0.00825500488281 秒\n"
     ]
    }
   ],
   "source": [
    "mariaDb = mariadb.connect(user='root', password='1234', database='ab101group4')\n",
    "# prepare a cursor object using cursor() method\n",
    "cursor = mariaDb.cursor()\n",
    "\n",
    "startTime = time.time()\n",
    "\n",
    "# Prepare SQL query to INSERT a record into the database.\n",
    "insert_User = ( \"insert into users \"\n",
    "                      \"(_id,display_name,fav_cnt,follower_cnt,following_cnt,post_cnt,profile_pic_origin,browse_cnt,checkin_cnt,certified,timestamp,page_rank,\\\n",
    "                        blog_cnt_by_roast_chicken , blog_cnt_by_barbecue , blog_cnt_by_seafood , blog_cnt_by_brunch , blog_cnt_by_banquet , blog_cnt_by_bar , \\\n",
    "                        blog_cnt_by_japanese_food , blog_cnt_by_continental_food , blog_cnt_by_southeast_asia_food , blog_cnt_by_mutton_beef_hotpot , blog_cnt_by_chophouse ,\\\n",
    "                        blog_cnt_by_korea_food , blog_cnt_by_vegetable_food , blog_cnt_by_hongKong_food , blog_cnt_by_Other , blog_cnt_by_dessert_ice_drink_bakery ,\\\n",
    "                        blog_cnt_by_themed_restaurant , blog_cnt_by_taiwanses_Food , blog_cnt_by_buffet , blog_cnt_by_hotpot , blog_cnt_by_light_meal_afternoon_tea ,\\\n",
    "                        \\\n",
    "                        between_zscore_roast_chicken , between_zscore_barbecue , between_zscore_seafood , between_zscore_brunch , between_zscore_banquet , between_zscore_bar , \\\n",
    "                        between_zscore_japanese_food , between_zscore_continental_food , between_zscore_southeast_asia_food , between_zscore_mutton_beef_hotpot , between_zscore_chophouse ,\\\n",
    "                        between_zscore_korea_food , between_zscore_vegetable_food , between_zscore_hongKong_food , between_zscore_Other , between_zscore_dessert_ice_drink_bakery ,\\\n",
    "                        between_zscore_themed_restaurant , between_zscore_taiwanses_Food , between_zscore_buffet , between_zscore_hotpot , between_zscore_light_meal_afternoon_tea ,\\\n",
    "                        \\\n",
    "                        within_zscore_roast_chicken , within_zscore_barbecue , within_zscore_seafood , within_zscore_brunch , within_zscore_banquet , within_zscore_bar , \\\n",
    "                        within_zscore_japanese_food , within_zscore_continental_food , within_zscore_southeast_asia_food , within_zscore_mutton_beef_hotpot , within_zscore_chophouse ,\\\n",
    "                        within_zscore_korea_food , within_zscore_vegetable_food , within_zscore_hongKong_food , within_zscore_Other , within_zscore_dessert_ice_drink_bakery ,\\\n",
    "                        within_zscore_themed_restaurant , within_zscore_taiwanses_Food , within_zscore_buffet , within_zscore_hotpot , within_zscore_light_meal_afternoon_tea \\\n",
    "                     )\"\n",
    "                      \"values(%s, %s, %s, %s, %s, %s, %s, %s, %s, %s, %s, %s,\\\n",
    "                                    %s, %s, %s, %s, %s, %s, %s, %s, %s, %s, %s, %s, %s, %s, %s, %s, %s, %s, %s, %s, %s,\\\n",
    "                                    %s, %s, %s, %s, %s, %s, %s, %s, %s, %s, %s, %s, %s, %s, %s, %s, %s, %s, %s, %s, %s,\\\n",
    "                                    %s, %s, %s, %s, %s, %s, %s, %s, %s, %s, %s, %s, %s, %s, %s, %s, %s, %s, %s, %s, %s\\\n",
    "                                   )\"\n",
    "                     )\n",
    "\n",
    "user='53bdf3bdd4fdab213072997b'\n",
    "user_Data = (uDic[user]['_id'],uDic[user]['display_name'],uDic[user]['fav_cnt'],uDic[user]['follower_cnt'],\n",
    "                        uDic[user]['following_cnt'],uDic[user]['post_cnt'],uDic[user]['profile_pic_origin'],uDic[user]['browse_cnt'],\n",
    "                        uDic[user]['checkin_cnt'],uDic[user]['certified'],uDic[user]['timestamp'],uDic[user]['page_rank'],\n",
    "             \n",
    "                        uDic[user]['blog_cnt_by_type'][u'烤雞/烤鴨'] ,uDic[user]['blog_cnt_by_type'][u'串燒/碳烤/居酒屋/燒烤'],uDic[user]['blog_cnt_by_type'][u'海產/熱炒餐廳'],\n",
    "                        uDic[user]['blog_cnt_by_type'][u'美式餐廳/早午餐'] ,uDic[user]['blog_cnt_by_type'][u'合菜'],uDic[user]['blog_cnt_by_type'][u'酒吧/餐酒館'],\n",
    "                        uDic[user]['blog_cnt_by_type'][u'日式料理'] ,uDic[user]['blog_cnt_by_type'][u'義式/歐風/異國'],uDic[user]['blog_cnt_by_type'][u'東南亞料理'],\n",
    "                        uDic[user]['blog_cnt_by_type'][u'羊肉爐/牛肉湯'] ,uDic[user]['blog_cnt_by_type'][u'牛排館/鐵板燒'],uDic[user]['blog_cnt_by_type'][u'韓式料理'],\n",
    "                        uDic[user]['blog_cnt_by_type'][u'素食/蔬食'] ,uDic[user]['blog_cnt_by_type'][u'港式餐廳'],uDic[user]['blog_cnt_by_type'][u'其他'],\n",
    "                        uDic[user]['blog_cnt_by_type'][u'甜點/冰品/飲料/烘培'] ,uDic[user]['blog_cnt_by_type'][u'主題/景觀餐廳'],uDic[user]['blog_cnt_by_type'][u'台式/中式/小吃'],\n",
    "                        uDic[user]['blog_cnt_by_type'][u'自助餐'] ,uDic[user]['blog_cnt_by_type'][u'鍋類'],uDic[user]['blog_cnt_by_type'][u'咖啡/輕食/下午茶'],\n",
    "             \n",
    "                        uDic[user]['between_zscore'][u'烤雞/烤鴨'] ,uDic[user]['between_zscore'][u'串燒/碳烤/居酒屋/燒烤'],uDic[user]['between_zscore'][u'海產/熱炒餐廳'],\n",
    "                        uDic[user]['between_zscore'][u'美式餐廳/早午餐'] ,uDic[user]['between_zscore'][u'合菜'],uDic[user]['between_zscore'][u'酒吧/餐酒館'],\n",
    "                        uDic[user]['between_zscore'][u'日式料理'] ,uDic[user]['between_zscore'][u'義式/歐風/異國'],uDic[user]['between_zscore'][u'東南亞料理'],\n",
    "                        uDic[user]['between_zscore'][u'羊肉爐/牛肉湯'] ,uDic[user]['between_zscore'][u'牛排館/鐵板燒'],uDic[user]['between_zscore'][u'韓式料理'],\n",
    "                        uDic[user]['between_zscore'][u'素食/蔬食'] ,uDic[user]['between_zscore'][u'港式餐廳'],uDic[user]['between_zscore'][u'其他'],\n",
    "                        uDic[user]['between_zscore'][u'甜點/冰品/飲料/烘培'] ,uDic[user]['between_zscore'][u'主題/景觀餐廳'],uDic[user]['between_zscore'][u'台式/中式/小吃'],\n",
    "                        uDic[user]['between_zscore'][u'自助餐'] ,uDic[user]['between_zscore'][u'鍋類'],uDic[user]['between_zscore'][u'咖啡/輕食/下午茶'],\n",
    "             \n",
    "                        uDic[user]['within_zscore'][u'烤雞/烤鴨'] ,uDic[user]['within_zscore'][u'串燒/碳烤/居酒屋/燒烤'],uDic[user]['within_zscore'][u'海產/熱炒餐廳'],\n",
    "                        uDic[user]['within_zscore'][u'美式餐廳/早午餐'] ,uDic[user]['within_zscore'][u'合菜'],uDic[user]['within_zscore'][u'酒吧/餐酒館'],\n",
    "                        uDic[user]['within_zscore'][u'日式料理'] ,uDic[user]['within_zscore'][u'義式/歐風/異國'],uDic[user]['within_zscore'][u'東南亞料理'],\n",
    "                        uDic[user]['within_zscore'][u'羊肉爐/牛肉湯'] ,uDic[user]['within_zscore'][u'牛排館/鐵板燒'],uDic[user]['within_zscore'][u'韓式料理'],\n",
    "                        uDic[user]['within_zscore'][u'素食/蔬食'] ,uDic[user]['within_zscore'][u'港式餐廳'],uDic[user]['within_zscore'][u'其他'],\n",
    "                        uDic[user]['within_zscore'][u'甜點/冰品/飲料/烘培'] ,uDic[user]['within_zscore'][u'主題/景觀餐廳'],uDic[user]['within_zscore'][u'台式/中式/小吃'],\n",
    "                        uDic[user]['within_zscore'][u'自助餐'] ,uDic[user]['within_zscore'][u'鍋類'],uDic[user]['within_zscore'][u'咖啡/輕食/下午茶'],\n",
    "             \n",
    "                )\n",
    "    #print user_Data\n",
    "    # Insert new employee\n",
    "try:\n",
    "   # Execute the SQL command\n",
    "   cursor.execute(insert_User, user_Data)\n",
    "   # Commit your changes in the database\n",
    "   mariaDb.commit()\n",
    "except:\n",
    "   # Rollback in case there is any error\n",
    "    print \"Rollback in case there is any error\"\n",
    "    print user_Data\n",
    "    mariaDb.rollback()\n",
    "    \n",
    "# disconnect from server\n",
    "mariaDb.close()\n",
    "\n",
    "endTime = time.time()\n",
    "print '總共花了', endTime-startTime , '秒'\n"
   ]
  },
  {
   "cell_type": "code",
   "execution_count": 18,
   "metadata": {
    "collapsed": false
   },
   "outputs": [
    {
     "name": "stdout",
     "output_type": "stream",
     "text": [
      "(u'53bdf3bdd4fdab213072997b', u'\\u6591\\u6bd4Banbi', 936, 15832, 54, 734, u'https://farm8.staticflickr.com/7520/16196039096_1b3949c98d_n.jpg', 1433679, 722, True, 1464125981.278, 0.029034848347406425, 5, 13, 3, 32, 14, 0, 63, 59, 11, 1, 12, 4, 0, 9, 1, 206, 2, 68, 14, 13, 129, -0.42595996104973916, -0.05647767794623834, 0.3170154624874899, -0.6096552927133927, 0.10563062160263728, -999, -0.22586153046130836, -0.17321541402249555, -0.2722739751855685, -0.8310513018696186, 0.21146068747859356, -1.1828524222912196, -999, -0.5078296089055462, 0.2703872624048257, -0.15834543486359362, -0.871348110363369, -0.8263214161777721, -0.499996371818397, -0.5339955160224829, -0.18573707166382394, -0.36106188025250346, 1.5335017328913871, 0.9905169465953115, -0.6382264390744377, 1.5394950945264745, -999, 0.20600657532663572, 0.8587634054101848, 0.25990299145156937, -1.5045126131701354, 1.6895013584391494, -1.5985463905482302, -999, -0.3677487266438346, -0.1504262189255712, -0.09291041334479473, -1.4292855912676596, -1.3767373039093127, 0.3197426679649025, -0.049159074056853755, 0.17118387858772657)\n",
      "<type 'tuple'>\n"
     ]
    }
   ],
   "source": [
    "# 檢查tuple\n",
    "user='53bdf3bdd4fdab213072997b'\n",
    "user_Data = (uDic[user]['_id'],uDic[user]['display_name'],uDic[user]['fav_cnt'],uDic[user]['follower_cnt'],\n",
    "                        uDic[user]['following_cnt'],uDic[user]['post_cnt'],uDic[user]['profile_pic_origin'],uDic[user]['browse_cnt'],\n",
    "                        uDic[user]['checkin_cnt'],uDic[user]['certified'],uDic[user]['timestamp'],uDic[user]['page_rank'],\n",
    "             \n",
    "                        uDic[user]['blog_cnt_by_type'][u'烤雞/烤鴨'] ,uDic[user]['blog_cnt_by_type'][u'串燒/碳烤/居酒屋/燒烤'],uDic[user]['blog_cnt_by_type'][u'海產/熱炒餐廳'],\n",
    "                        uDic[user]['blog_cnt_by_type'][u'美式餐廳/早午餐'] ,uDic[user]['blog_cnt_by_type'][u'合菜'],uDic[user]['blog_cnt_by_type'][u'酒吧/餐酒館'],\n",
    "                        uDic[user]['blog_cnt_by_type'][u'日式料理'] ,uDic[user]['blog_cnt_by_type'][u'義式/歐風/異國'],uDic[user]['blog_cnt_by_type'][u'東南亞料理'],\n",
    "                        uDic[user]['blog_cnt_by_type'][u'羊肉爐/牛肉湯'] ,uDic[user]['blog_cnt_by_type'][u'牛排館/鐵板燒'],uDic[user]['blog_cnt_by_type'][u'韓式料理'],\n",
    "                        uDic[user]['blog_cnt_by_type'][u'素食/蔬食'] ,uDic[user]['blog_cnt_by_type'][u'港式餐廳'],uDic[user]['blog_cnt_by_type'][u'其他'],\n",
    "                        uDic[user]['blog_cnt_by_type'][u'甜點/冰品/飲料/烘培'] ,uDic[user]['blog_cnt_by_type'][u'主題/景觀餐廳'],uDic[user]['blog_cnt_by_type'][u'台式/中式/小吃'],\n",
    "                        uDic[user]['blog_cnt_by_type'][u'自助餐'] ,uDic[user]['blog_cnt_by_type'][u'鍋類'],uDic[user]['blog_cnt_by_type'][u'咖啡/輕食/下午茶'],\n",
    "             \n",
    "                        uDic[user]['between_zscore'][u'烤雞/烤鴨'] ,uDic[user]['between_zscore'][u'串燒/碳烤/居酒屋/燒烤'],uDic[user]['between_zscore'][u'海產/熱炒餐廳'],\n",
    "                        uDic[user]['between_zscore'][u'美式餐廳/早午餐'] ,uDic[user]['between_zscore'][u'合菜'],uDic[user]['between_zscore'][u'酒吧/餐酒館'],\n",
    "                        uDic[user]['between_zscore'][u'日式料理'] ,uDic[user]['between_zscore'][u'義式/歐風/異國'],uDic[user]['between_zscore'][u'東南亞料理'],\n",
    "                        uDic[user]['between_zscore'][u'羊肉爐/牛肉湯'] ,uDic[user]['between_zscore'][u'牛排館/鐵板燒'],uDic[user]['between_zscore'][u'韓式料理'],\n",
    "                        uDic[user]['between_zscore'][u'素食/蔬食'] ,uDic[user]['between_zscore'][u'港式餐廳'],uDic[user]['between_zscore'][u'其他'],\n",
    "                        uDic[user]['between_zscore'][u'甜點/冰品/飲料/烘培'] ,uDic[user]['between_zscore'][u'主題/景觀餐廳'],uDic[user]['between_zscore'][u'台式/中式/小吃'],\n",
    "                        uDic[user]['between_zscore'][u'自助餐'] ,uDic[user]['between_zscore'][u'鍋類'],uDic[user]['between_zscore'][u'咖啡/輕食/下午茶'],\n",
    "             \n",
    "                        uDic[user]['within_zscore'][u'烤雞/烤鴨'] ,uDic[user]['within_zscore'][u'串燒/碳烤/居酒屋/燒烤'],uDic[user]['within_zscore'][u'海產/熱炒餐廳'],\n",
    "                        uDic[user]['within_zscore'][u'美式餐廳/早午餐'] ,uDic[user]['within_zscore'][u'合菜'],uDic[user]['within_zscore'][u'酒吧/餐酒館'],\n",
    "                        uDic[user]['within_zscore'][u'日式料理'] ,uDic[user]['within_zscore'][u'義式/歐風/異國'],uDic[user]['within_zscore'][u'東南亞料理'],\n",
    "                        uDic[user]['within_zscore'][u'羊肉爐/牛肉湯'] ,uDic[user]['within_zscore'][u'牛排館/鐵板燒'],uDic[user]['within_zscore'][u'韓式料理'],\n",
    "                        uDic[user]['within_zscore'][u'素食/蔬食'] ,uDic[user]['within_zscore'][u'港式餐廳'],uDic[user]['within_zscore'][u'其他'],\n",
    "                        uDic[user]['within_zscore'][u'甜點/冰品/飲料/烘培'] ,uDic[user]['within_zscore'][u'主題/景觀餐廳'],uDic[user]['within_zscore'][u'台式/中式/小吃'],\n",
    "                        uDic[user]['within_zscore'][u'自助餐'] ,uDic[user]['within_zscore'][u'鍋類'],uDic[user]['within_zscore'][u'咖啡/輕食/下午茶'],\n",
    "             \n",
    "                )\n",
    "print user_Data\n",
    "print type(user_Data)"
   ]
  },
  {
   "cell_type": "code",
   "execution_count": null,
   "metadata": {
    "collapsed": false
   },
   "outputs": [],
   "source": []
  },
  {
   "cell_type": "code",
   "execution_count": null,
   "metadata": {
    "collapsed": true
   },
   "outputs": [],
   "source": []
  }
 ],
 "metadata": {
  "kernelspec": {
   "display_name": "Python 2",
   "language": "python",
   "name": "python2"
  },
  "language_info": {
   "codemirror_mode": {
    "name": "ipython",
    "version": 2
   },
   "file_extension": ".py",
   "mimetype": "text/x-python",
   "name": "python",
   "nbconvert_exporter": "python",
   "pygments_lexer": "ipython2",
   "version": "2.7.11"
  }
 },
 "nbformat": 4,
 "nbformat_minor": 0
}
