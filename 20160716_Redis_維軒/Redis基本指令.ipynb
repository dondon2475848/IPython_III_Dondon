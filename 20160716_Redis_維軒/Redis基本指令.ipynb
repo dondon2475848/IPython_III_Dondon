{
 "cells": [
  {
   "cell_type": "code",
   "execution_count": 1,
   "metadata": {
    "collapsed": false
   },
   "outputs": [
    {
     "name": "stdout",
     "output_type": "stream",
     "text": [
      "Dondon\n",
      "{'a': 123, 'b': 'ccc'}\n",
      "<type 'dict'>\n"
     ]
    }
   ],
   "source": [
    "import redis\n",
    "r=redis.StrictRedis()\n",
    "r.set('myDic', {'a':123,'b':'ccc'})\n",
    "print r.get('myKey')\n",
    "print r.get('myDic')\n",
    "print type(eval(r.get('myDic')))"
   ]
  },
  {
   "cell_type": "code",
   "execution_count": 6,
   "metadata": {
    "collapsed": false
   },
   "outputs": [
    {
     "name": "stdout",
     "output_type": "stream",
     "text": [
      "1\n",
      "1\n"
     ]
    }
   ],
   "source": [
    "r.set('count',1)\n",
    "rget = r.get('count')\n",
    "print rget\n",
    "r.incr('count')\n",
    "print rget"
   ]
  },
  {
   "cell_type": "code",
   "execution_count": null,
   "metadata": {
    "collapsed": true
   },
   "outputs": [],
   "source": []
  }
 ],
 "metadata": {
  "kernelspec": {
   "display_name": "Python 2",
   "language": "python",
   "name": "python2"
  },
  "language_info": {
   "codemirror_mode": {
    "name": "ipython",
    "version": 2
   },
   "file_extension": ".py",
   "mimetype": "text/x-python",
   "name": "python",
   "nbconvert_exporter": "python",
   "pygments_lexer": "ipython2",
   "version": "2.7.11"
  }
 },
 "nbformat": 4,
 "nbformat_minor": 0
}
