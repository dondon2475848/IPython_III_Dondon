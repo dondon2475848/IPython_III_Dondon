{
 "cells": [
  {
   "cell_type": "code",
   "execution_count": 1,
   "metadata": {
    "collapsed": true
   },
   "outputs": [],
   "source": [
    "#coding=utf-8\n",
    "#import\n",
    "import os\n",
    "import gensim\n",
    "import logging\n",
    "import json\n",
    "import numpy as np\n",
    "import time\n",
    "from sklearn.cluster import KMeans\n"
   ]
  },
  {
   "cell_type": "code",
   "execution_count": 2,
   "metadata": {
    "collapsed": true
   },
   "outputs": [],
   "source": [
    "#Def\n",
    "def PrintKeyValue(dic_in):\n",
    "    for key, value in dic_in.iteritems() :\n",
    "        print key,'  :  ', value\n",
    "def jsonDump(dataIn):\n",
    "    print json.dumps(dataIn,ensure_ascii=False).encode('utf-8')\n",
    "    \n",
    "# 創立資料夾\n",
    "def mkdir(path):\n",
    "    if  os.path.exists(path)==False:\n",
    "        os.makedirs(path)\n",
    "        print '呼叫mkdir，創立資料夾:',path     "
   ]
  },
  {
   "cell_type": "code",
   "execution_count": 3,
   "metadata": {
    "collapsed": false
   },
   "outputs": [
    {
     "name": "stdout",
     "output_type": "stream",
     "text": [
      "主題詞字典的長度 72838\n"
     ]
    }
   ],
   "source": [
    "#讀取Word2Vec模型\n",
    "with open('./data/subject.json' , 'r') as f:\n",
    "    subjectDic = json.load(f)\n",
    "print '主題詞字典的長度',len(subjectDic)\n",
    "model = gensim.models.Word2Vec.load('./data/Word2Vec_sz_200_mc_1_sg_by_sentence')"
   ]
  },
  {
   "cell_type": "code",
   "execution_count": null,
   "metadata": {
    "collapsed": true
   },
   "outputs": [],
   "source": []
  }
 ],
 "metadata": {
  "kernelspec": {
   "display_name": "Python 2",
   "language": "python",
   "name": "python2"
  },
  "language_info": {
   "codemirror_mode": {
    "name": "ipython",
    "version": 2
   },
   "file_extension": ".py",
   "mimetype": "text/x-python",
   "name": "python",
   "nbconvert_exporter": "python",
   "pygments_lexer": "ipython2",
   "version": "2.7.11"
  }
 },
 "nbformat": 4,
 "nbformat_minor": 0
}
