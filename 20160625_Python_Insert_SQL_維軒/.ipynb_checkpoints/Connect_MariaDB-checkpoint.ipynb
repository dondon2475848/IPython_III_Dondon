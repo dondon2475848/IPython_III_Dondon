{
 "cells": [
  {
   "cell_type": "markdown",
   "metadata": {},
   "source": [
    " \n",
    "# 終端機\n",
    "### 安裝完成後, 執行以下指令啟動 MariaDB:\n",
    "sudo service mysql start\n",
    "或\n",
    "sudo systemctl start mysql.service\n",
    "\n",
    "### 要測試 MariaDB 是否成功安裝, 可以用以下指令連接:\n",
    "mysql -u root -p\n",
    "### 如果輸入密碼後成功連接, 那就表示安裝成功了。\n",
    "\n"
   ]
  },
  {
   "cell_type": "markdown",
   "metadata": {},
   "source": [
    "# 連接MariaDB\n"
   ]
  },
  {
   "cell_type": "code",
   "execution_count": 1,
   "metadata": {
    "collapsed": true
   },
   "outputs": [],
   "source": [
    "# coding=utf-8\n",
    "# import\n"
   ]
  },
  {
   "cell_type": "code",
   "execution_count": 2,
   "metadata": {
    "collapsed": true
   },
   "outputs": [],
   "source": [
    "#Def\n",
    "def jsonDump(dataIn):\n",
    "    print json.dumps(dataIn,ensure_ascii=False).encode('utf-8')"
   ]
  },
  {
   "cell_type": "markdown",
   "metadata": {},
   "source": [
    "### 先至終端機輸入 pip install mysql-connector-python-rf"
   ]
  },
  {
   "cell_type": "code",
   "execution_count": 3,
   "metadata": {
    "collapsed": false
   },
   "outputs": [],
   "source": [
    "import mysql.connector as mariadb"
   ]
  },
  {
   "cell_type": "code",
   "execution_count": 14,
   "metadata": {
    "collapsed": true
   },
   "outputs": [],
   "source": [
    "mariaDb = mariadb.connect(user='root', password='1234', database='ab101group4')\n",
    "cursor = mariaDb.cursor()"
   ]
  },
  {
   "cell_type": "markdown",
   "metadata": {
    "collapsed": true
   },
   "source": [
    "### Creating Database Table"
   ]
  },
  {
   "cell_type": "code",
   "execution_count": 15,
   "metadata": {
    "collapsed": false
   },
   "outputs": [],
   "source": [
    "mariaDb = mariadb.connect(user='root', password='1234', database='ab101group4')\n",
    "\n",
    "# prepare a cursor object using cursor() method\n",
    "cursor = mariaDb.cursor()\n",
    "\n",
    "# Drop table if it already exist using execute() method.\n",
    "cursor.execute(\"DROP TABLE IF EXISTS employee\")\n",
    "\n",
    "# Create table as per requirement\n",
    "sql = \"\"\"create table employee (\n",
    "         first_Name  CHAR(20) NOT NULL,\n",
    "         last_Name  CHAR(20),\n",
    "         age INT,  \n",
    "         sex CHAR(1),\n",
    "         income FLOAT )\"\"\"\n",
    "\n",
    "\n",
    "cursor.execute(sql)\n",
    "\n",
    "# disconnect from server\n",
    "mariaDb.close()"
   ]
  },
  {
   "cell_type": "markdown",
   "metadata": {},
   "source": [
    "### INSERT Operation"
   ]
  },
  {
   "cell_type": "code",
   "execution_count": 16,
   "metadata": {
    "collapsed": false
   },
   "outputs": [],
   "source": [
    "mariaDb = mariadb.connect(user='root', password='1234', database='ab101group4')\n",
    "# prepare a cursor object using cursor() method\n",
    "cursor = mariaDb.cursor()\n",
    "\n",
    "# Prepare SQL query to INSERT a record into the database.\n",
    "sql = \"\"\"insert into employee(first_Name,last_Name, age, sex, income)\n",
    "        values ('Mac', 'Mohan', 20, 'M', 2000),\n",
    "        ('Dondon', 'Jie', 25, 'M', 12000),\n",
    "         ('Maria', 'Kuo', 28, 'M', 8000);\n",
    "         \"\"\"\n",
    "\n",
    "try:\n",
    "   # Execute the SQL command\n",
    "   cursor.execute(sql)\n",
    "   # Commit your changes in the database\n",
    "   mariaDb.commit()\n",
    "except:\n",
    "   # Rollback in case there is any error\n",
    "   mariaDb.rollback()\n",
    "\n",
    "# disconnect from server\n",
    "mariaDb.close()\n"
   ]
  },
  {
   "cell_type": "code",
   "execution_count": 4,
   "metadata": {
    "collapsed": false
   },
   "outputs": [
    {
     "name": "stdout",
     "output_type": "stream",
     "text": [
      "294634\n"
     ]
    }
   ],
   "source": [
    "#讀取 user data\n",
    "import json\n",
    "with open('./data/UserWithPageRank20160624.json','r') as f:\n",
    "    uDic=json.load(f)\n",
    "print len(uDic) #294634 筆（約29.5萬筆）\n"
   ]
  },
  {
   "cell_type": "code",
   "execution_count": 5,
   "metadata": {
    "collapsed": false
   },
   "outputs": [
    {
     "name": "stdout",
     "output_type": "stream",
     "text": [
      "{\"fav_cnt\": 4, \"fans_id_list\": [\"572e97a6699b6e03d126c6d4\", \"57135908699b6e2c625971d2\", \"56ff94ac2756dd6e8fb8e260\", \"56e2677c2756dd42197ba7d9\", \"56da7d752756dd103669bcf7\", \"56964a4b2756dd3d93d6f54d\", \"5681fb022756dd525569b928\", \"567f88ba699b6e644703388d\", \"560a972c699b6e4b741e0bab\", \"5604fa90699b6e2068a177be\", \"55fe1e35699b6e1257e3ff47\", \"55f96fec699b6e17142dba93\", \"55e9c6e2699b6e04eba00bad\", \"558155d12756dd3777029d53\", \"55727fd1699b6e3f9c8841fc\", \"555e2b5b2756dd343991d03d\", \"5540e7932756dd0437ef9562\", \"55337324699b6e05625bfbc8\", \"552e29722756dd24fe51a618\", \"55b06a312756dd2df2a4cdbc\", \"549cfe10d4fdab6cca9a09df\", \"545dc497d4fdab30a7467205\", \"549991b3d4fdab79e793d515\", \"54e060152756dd7de53dedc2\", \"54ce70a32756dd2f8763273d\", \"53f1c372d4fdab2eeab2e01a\", \"5472f02dd4fdab48998bf7ad\", \"566c45812756dd730e8f4929\", \"5679253b699b6e6b626a5572\", \"56815f772756dd3e7924115c\", \"5486594ed4fdab1174548d06\", \"53ea746dd4fdab2e7010dbfd\", \"53b6bc54d4fdab6077c3b967\", \"538cac9240d18d6b7e1079f0\", \"5648bb98699b6e7b7bb442c0\"], \"follower_cnt\": 35, \"_id\": \"555382ac699b6e51fd25af57\", \"display_name\": \"Lowlow Yang\", \"like\": {\"53d9f678d4fdab3326dbb0bb\": 1, \"53b01f89d4fdab1e36dd2b22\": 1, \"550635c32756dd3380532d5d\": 1, \"554056b92756dd0437ef4f2e\": 1}, \"following_cnt\": 36, \"timestamp\": 1464086901.017, \"blog_id_list\": [], \"post_cnt\": 0, \"profile_pic_origin\": \"https://graph.facebook.com/v2.0/1071231469559035/picture?width=800&height=800\", \"browse_cnt\": 0, \"checkin_cnt\": 0, \"recommendation_count\": 0, \"collection_blog_list\": {\"52e773929f2477cc060000e5\": \"559bea79c03a101f6d8b7000\", \"5546ebcc504e3e85b1000004\": \"559bf363c03a101f6d8b744c\", \"553647faf0b1863378bb0002\": \"55a4ef3dc03a10241de6397b\", \"54b3ed4ec47e9bbd3e747ecc\": \"55d76b162756dd0b3b8dbb43\"}, \"recommendation_blog_list\": {}, \"visit_blog_list\": {}, \"certified\": false, \"page_rank\": 1.1770403842190396e-06}\n"
     ]
    }
   ],
   "source": [
    "u=2009\n",
    "for user in uDic.keys()[u:u+1]:\n",
    "    jsonDump(uDic[user])"
   ]
  },
  {
   "cell_type": "code",
   "execution_count": 10,
   "metadata": {
    "collapsed": false
   },
   "outputs": [
    {
     "name": "stdout",
     "output_type": "stream",
     "text": [
      "(u'555382ac699b6e51fd25af57', u'Lowlow Yang', 4, 35, 36, 0, u'https://graph.facebook.com/v2.0/1071231469559035/picture?width=800&height=800', 0, 0, [u'572e97a6699b6e03d126c6d4', u'57135908699b6e2c625971d2', u'56ff94ac2756dd6e8fb8e260', u'56e2677c2756dd42197ba7d9', u'56da7d752756dd103669bcf7', u'56964a4b2756dd3d93d6f54d', u'5681fb022756dd525569b928', u'567f88ba699b6e644703388d', u'560a972c699b6e4b741e0bab', u'5604fa90699b6e2068a177be', u'55fe1e35699b6e1257e3ff47', u'55f96fec699b6e17142dba93', u'55e9c6e2699b6e04eba00bad', u'558155d12756dd3777029d53', u'55727fd1699b6e3f9c8841fc', u'555e2b5b2756dd343991d03d', u'5540e7932756dd0437ef9562', u'55337324699b6e05625bfbc8', u'552e29722756dd24fe51a618', u'55b06a312756dd2df2a4cdbc', u'549cfe10d4fdab6cca9a09df', u'545dc497d4fdab30a7467205', u'549991b3d4fdab79e793d515', u'54e060152756dd7de53dedc2', u'54ce70a32756dd2f8763273d', u'53f1c372d4fdab2eeab2e01a', u'5472f02dd4fdab48998bf7ad', u'566c45812756dd730e8f4929', u'5679253b699b6e6b626a5572', u'56815f772756dd3e7924115c', u'5486594ed4fdab1174548d06', u'53ea746dd4fdab2e7010dbfd', u'53b6bc54d4fdab6077c3b967', u'538cac9240d18d6b7e1079f0', u'5648bb98699b6e7b7bb442c0'], False, 1464086901.017)\n"
     ]
    }
   ],
   "source": [
    "u=2009\n",
    "for user in uDic.keys()[u:u+1]:\n",
    "    #jsonDump(uDic[user])\n",
    "    user_Data = (uDic[user]['_id'],uDic[user]['display_name'],uDic[user]['fav_cnt'],uDic[user]['follower_cnt'],\n",
    "                      uDic[user]['following_cnt'],uDic[user]['post_cnt'],uDic[user]['profile_pic_origin'],uDic[user]['browse_cnt'],\n",
    "                      uDic[user]['checkin_cnt'],uDic[user]['fans_id_list'],uDic[user]['certified'],uDic[user]['timestamp'])\n",
    "    print user_Data"
   ]
  },
  {
   "cell_type": "code",
   "execution_count": null,
   "metadata": {
    "collapsed": true
   },
   "outputs": [],
   "source": [
    "insert_User = ( \"insert into users \"\n",
    "                      \"(_id,display_name,fav_cnt,follower_cnt,following_cnt,post_cnt,profile_pic_origin,browse_cnt,checkin_cnt,fans_id_list,certified,timestamp)\"\n",
    "                      \"values(%s, %s, %s, %s, %s, %s, %s, %s, %s, %s, %s, %s)\"\n",
    "                     )\n",
    "user_Data = (uDic[user]['_id'],uDic[user]['display_name'],uDic[user]['fav_cnt'],uDic[user]['follower_cnt'],\n",
    "                      uDic[user]['following_cnt'],uDic[user]['post_cnt'],uDic[user]['profile_pic_origin'],uDic[user]['browse_cnt'],\n",
    "                      uDic[user]['checkin_cnt'],uDic[user]['fans_id_list'],uDic[user]['certified'],uDic[user]['timestamp'])"
   ]
  },
  {
   "cell_type": "code",
   "execution_count": null,
   "metadata": {
    "collapsed": true
   },
   "outputs": [],
   "source": []
  },
  {
   "cell_type": "code",
   "execution_count": null,
   "metadata": {
    "collapsed": true
   },
   "outputs": [],
   "source": []
  },
  {
   "cell_type": "code",
   "execution_count": 16,
   "metadata": {
    "collapsed": false
   },
   "outputs": [
    {
     "name": "stdout",
     "output_type": "stream",
     "text": [
      "<type 'str'>\n",
      "<type 'tuple'>\n"
     ]
    }
   ],
   "source": [
    "from datetime import date, datetime, timedelta\n",
    "import mysql.connector\n",
    "\n",
    "# cnx = mysql.connector.connect(user='scott', database='employees')\n",
    "# cursor = cnx.cursor()\n",
    "\n",
    "tomorrow = datetime.now().date() + timedelta(days=1)\n",
    "\n",
    "add_employee = (\"INSERT INTO employees \"\n",
    "                \"(_id,display_name,fav_cnt,follower_cnt,following_cnt,post_cnt,profile_pic_origin,browse_cnt,checkin_cnt,fans_id_list[],certified,timestamp)\"\n",
    "                \"values(%s, %s, %s, %s, %s, %s, %s, %s, %s, %s, %s, %s)\")\n",
    "          \n",
    "\n",
    "\n",
    "data_employee = ('Geert', 'Vanderkelen', tomorrow, 'M', date(1977, 6, 14))\n",
    "\n",
    "# Insert new employee\n",
    "# cursor.execute(add_employee, data_employee)\n",
    "\n",
    "\n",
    "add_employee\n",
    "print type(add_employee)\n",
    "\n",
    "data_employee\n",
    "print type(data_employee)"
   ]
  },
  {
   "cell_type": "code",
   "execution_count": null,
   "metadata": {
    "collapsed": true
   },
   "outputs": [],
   "source": [
    "jsonDump"
   ]
  },
  {
   "cell_type": "code",
   "execution_count": null,
   "metadata": {
    "collapsed": true
   },
   "outputs": [],
   "source": []
  },
  {
   "cell_type": "code",
   "execution_count": null,
   "metadata": {
    "collapsed": true
   },
   "outputs": [],
   "source": []
  }
 ],
 "metadata": {
  "kernelspec": {
   "display_name": "Python 2",
   "language": "python",
   "name": "python2"
  },
  "language_info": {
   "codemirror_mode": {
    "name": "ipython",
    "version": 2
   },
   "file_extension": ".py",
   "mimetype": "text/x-python",
   "name": "python",
   "nbconvert_exporter": "python",
   "pygments_lexer": "ipython2",
   "version": "2.7.11"
  }
 },
 "nbformat": 4,
 "nbformat_minor": 0
}
