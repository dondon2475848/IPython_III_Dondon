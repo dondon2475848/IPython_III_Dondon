{
 "cells": [
  {
   "cell_type": "code",
   "execution_count": 1,
   "metadata": {
    "collapsed": true
   },
   "outputs": [],
   "source": [
    "# -*- coding: utf-8 -*-\n",
    "# 使python可以讀取中文"
   ]
  },
  {
   "cell_type": "code",
   "execution_count": 2,
   "metadata": {
    "collapsed": true
   },
   "outputs": [],
   "source": [
    "### import\n",
    "import os\n",
    "import time\n",
    "import json\n",
    "import copy\n",
    "import requests\n",
    "from requests.adapters import HTTPAdapter\n",
    "rs = requests.session()\n",
    "rs.mount('https://', HTTPAdapter(max_retries=3)) #設定重試數量\n",
    "from pymongo import MongoClient\n",
    "import pymongo\n"
   ]
  },
  {
   "cell_type": "code",
   "execution_count": 3,
   "metadata": {
    "collapsed": true
   },
   "outputs": [],
   "source": [
    "### Def\n",
    "# 創立資料夾的function\n",
    "def mkdir(path):\n",
    "    if  os.path.exists(path)==False:\n",
    "        os.makedirs(path)\n",
    "        print '呼叫mkdir，創立資料夾:',path\n",
    "        \n",
    "# 印出字典的key與value\n",
    "def PrintKeyValue(dic_in):\n",
    "    for key, value in dic_in.iteritems() :\n",
    "        print key,'  :  ', value\n",
    "        \n",
    "# 輸出錯誤訊息 \n",
    "def createLog(log, type1):\n",
    "    date = time.strftime('%Y%m%d')\n",
    "    with open(savePath+'log/%s_%s.txt' % (type1, date), 'a') as f:\n",
    "        f.write(log+'\\n')\n",
    "# Print出字典內容\n",
    "def jsonDump(dataIn):\n",
    "    print json.dumps(dataIn,ensure_ascii=False).encode('utf-8')\n"
   ]
  },
  {
   "cell_type": "code",
   "execution_count": null,
   "metadata": {
    "collapsed": true
   },
   "outputs": [],
   "source": [
    "\n"
   ]
  },
  {
   "cell_type": "code",
   "execution_count": 25,
   "metadata": {
    "collapsed": false
   },
   "outputs": [],
   "source": [
    "### variable :\n",
    "# 取得開始爬蟲的時間\n",
    "time_start_to_grab=time.time()\n",
    "# time解說：\n",
    "#             print type(start_time)\n",
    "#             Python 中 time.time() 回傳一長串float形式的數字，那些數字單位是秒，是從 1970/1/1 00:00:00 開始計算到現在\n",
    "#             格式化後為Tue May 17 15:44:05 2016的形式\n",
    "#             print  time.asctime( time.localtime(time.time()) )\n",
    "\n",
    "\n",
    "# 因為要爬愛食記，head內的User-Agent改為自己手機的User-Agent，免得被判定為python程式在爬蟲\n",
    "# 查詢網址為： http://httpbin.org/get\n",
    "# 設定requests.get(url, headers=head)中的head\n",
    "head = {\n",
    "        \"User-Agent\": \"HTC AppleWebKit/537.36 (KHTML, like Gecko) Chrome/50.0.2661.89 Mobile Safari/537.36\"\n",
    "}\n",
    "\n",
    "\n",
    "# U2：用戶概況\n",
    "user_url = 'https://ifoodie.tw/api/user/{0}' \n",
    "# U4：粉絲清單\n",
    "follow_url = 'https://ifoodie.tw/api/follow/?limit={0}&offset={1}&rtn_type=user&target_user_id={2}'\n",
    "# U6：文章列表\n",
    "blog_url = 'https://ifoodie.tw/api/user/{0}/blogs/?limit={1}&offset={2}'\n",
    "# U7_url：收藏清單，會得到U8~U10的id\n",
    "collect_url = 'https://ifoodie.tw/api/collection/?all=true&user_id={0}' \n",
    "# U8,U9,U10：收藏餐廳/推薦餐廳/到訪餐廳\n",
    "restaurant_url = 'https://ifoodie.tw/api/collection/{0}/blogs/?limit={1}&offset={2}' \n",
    "\n",
    "# 字串格式化的使用例子\n",
    "# user_url2=user_url.format('abc')\n",
    "# print user_url2\n",
    "# follow_url2=follow_url.format('aaa','bbb','ccc')\n",
    "# print follow_url2\n",
    "\n",
    "\n",
    "### 創立存資料的資料夾 ###\n",
    "savePath='/home/dondon/pCloudDrive/AB101_Group4/data/Ipython_dataForGitHubˍ維軒/20160715_爬取愛食記資料並存進mongodb/data/'\n",
    "#user爬取存放的資料夾\n",
    "mkdir(savePath+'user')\n",
    "#restaurant爬取後存放的資料夾\n",
    "mkdir(savePath+'restaurant')\n",
    "#blog爬取後存放的資料夾\n",
    "mkdir(savePath+'blog')\n",
    "#發生except之log後存放的資料夾\n",
    "mkdir(savePath+'log')\n",
    "\n",
    "# 讀檔：使用者清單，已預先抓好，約29萬筆\n",
    "with open(savePath+'userlist.json','r') as f:\n",
    "    userlist = json.load(f)\n",
    "\n",
    "\n",
    "loop=0         # 檔名起始數字所用，進外圍迴圈開始前設定為0\n",
    "count=0        # 檔名結束數字所用，進外圍迴圈開始前設定為0\n",
    "\n",
    "userlist_select = userlist['users'][beginIndex:endIndex] #抓取範圍\n",
    "user = {}      #最後要輸出的user json\n",
    "response = []  #各個user字典檔的存放位置\n",
    "restat = {}    #最後要輸出的餐廳 json\n",
    "restList = []  #各餐廳字典檔的存放位置\n",
    "blogInfo = {}  #最後要輸出的blog json\n",
    "blogs = []     #各blog字典檔的存放位置\n",
    "\n",
    "\n",
    "\n",
    "\n"
   ]
  },
  {
   "cell_type": "code",
   "execution_count": 6,
   "metadata": {
    "collapsed": false
   },
   "outputs": [
    {
     "name": "stdout",
     "output_type": "stream",
     "text": [
      "294692\n"
     ]
    }
   ],
   "source": [
    "print len(userlist['users'])"
   ]
  },
  {
   "cell_type": "code",
   "execution_count": 7,
   "metadata": {
    "collapsed": true
   },
   "outputs": [],
   "source": [
    "# 依序抓取userlist_select中的id\n",
    "# Test : 暫時將userlist_select設為\n",
    "# userlist_select = [\"56a842e32756dd13f13b3e0c\"]   # Bakkutteh"
   ]
  },
  {
   "cell_type": "code",
   "execution_count": 29,
   "metadata": {
    "collapsed": false
   },
   "outputs": [
    {
     "name": "stdout",
     "output_type": "stream",
     "text": [
      "index :  0 ,  id :  5736ee0f2756dd50e29f37f4\n",
      "insert 成功 1 筆 , 失敗 0 筆\n",
      "insert 成功 0 筆 , 失敗 0 筆\n",
      "insert 成功 1 筆 , 失敗 0 筆\n",
      "index :  1 ,  id :  56f679e42756dd5b0d63cf38\n",
      "insert 成功 1 筆 , 失敗 0 筆\n",
      "insert 成功 0 筆 , 失敗 0 筆\n",
      "insert 成功 0 筆 , 失敗 0 筆\n",
      "index :  2 ,  id :  5593c533699b6e1c30d5e9ef\n",
      "insert 成功 1 筆 , 失敗 0 筆\n",
      "insert 成功 0 筆 , 失敗 0 筆\n",
      "insert 成功 7 筆 , 失敗 0 筆\n",
      "index :  3 ,  id :  55769f96699b6e382654b224\n",
      "insert 成功 1 筆 , 失敗 0 筆\n",
      "insert 成功 0 筆 , 失敗 0 筆\n",
      "insert 成功 14 筆 , 失敗 0 筆\n",
      "index :  4 ,  id :  53e22e49d4fdab108dcf2009\n",
      "insert 成功 1 筆 , 失敗 0 筆\n",
      "insert 成功 0 筆 , 失敗 0 筆\n",
      "insert 成功 329 筆 , 失敗 0 筆\n",
      "index :  5 ,  id :  56d17d5d699b6e68d7d4a7d3\n",
      "insert 成功 1 筆 , 失敗 0 筆\n",
      "insert 成功 6 筆 , 失敗 0 筆\n",
      "insert 成功 6 筆 , 失敗 0 筆\n",
      "index :  6 ,  id :  5479fed3d4fdab50c4871a49\n",
      "insert 成功 1 筆 , 失敗 0 筆\n",
      "insert 成功 0 筆 , 失敗 0 筆\n",
      "insert 成功 347 筆 , 失敗 2 筆\n",
      "index :  7 ,  id :  558f0506699b6e425f42e223\n",
      "insert 成功 1 筆 , 失敗 0 筆\n",
      "insert 成功 0 筆 , 失敗 0 筆\n",
      "insert 成功 1 筆 , 失敗 0 筆\n",
      "index :  8 ,  id :  562c739a2756dd204532725c\n",
      "insert 成功 1 筆 , 失敗 0 筆\n",
      "insert 成功 0 筆 , 失敗 0 筆\n",
      "insert 成功 0 筆 , 失敗 0 筆\n",
      "index :  9 ,  id :  5492f52fd4fdab6a2406554e\n",
      "insert 成功 1 筆 , 失敗 0 筆\n",
      "insert 成功 0 筆 , 失敗 0 筆\n",
      "insert 成功 132 筆 , 失敗 24 筆\n"
     ]
    }
   ],
   "source": [
    "### 抓取的起點與結束點\n",
    "beginIndex  = 0                           # 起始點\n",
    "endIndex    = 10                          # 結束點,抓到這筆之前的資料\n",
    "indexCount=beginIndex-1         # 為了使可print出當下的Index\n",
    "\n",
    "for u in userlist_select:\n",
    "    indexCount +=1\n",
    "    try:\n",
    "        res = rs.get(user_url.format(u), headers=head)\n",
    "        jd = json.loads(res.text, encoding='utf8')\n",
    "        i = jd['response'] #取得user基本資料，存成字典檔i\n",
    "        i['_id']=i['id']\n",
    "        i.pop('id', None)\n",
    "        i.pop('profile_pic', None)\n",
    "        i.pop('thumb', None)\n",
    "        i.pop('cover_url', None)\n",
    "        i.pop('is_following', None)\n",
    "        # 另一種刪除法\n",
    "        # del i[ 'id' ]\n",
    "        # PrintKeyValue(i)\n",
    "        \n",
    "        #抓粉絲名單\n",
    "        #用i['i_id']來抓粉絲名單\n",
    "        track = [] #先將list清空，以免抓到上個人的粉絲\n",
    "        x = 0\n",
    "        while True: #持續翻頁取得粉絲名單\n",
    "            try:\n",
    "                followList = follow_url.format(x+300, x, i['_id'])\n",
    "                followRes = rs.get(followList, headers=head)\n",
    "                jdFollow = json.loads(followRes.text, encoding='utf8')\n",
    "                rf = jdFollow['response']          \n",
    "                for rfi in rf:\n",
    "                    track.append(rfi['id'])\n",
    "            except:\n",
    "                #print \"no response\"\n",
    "                createLog(u, 'user_follower')\n",
    "            if len(rf) < 300: #最後一頁中斷迴圈\n",
    "                break\n",
    "            x += 300\n",
    "        # print len(track) ,'=',i['follower_cnt'],'?'   #檢查是否有抓到全部的粉絲\n",
    "        i['fans_id_list'] = track #將粉絲清單存到字典i\n",
    "        # PrintKeyValue(i)\n",
    "        x = 0\n",
    "        blogID = [] #先將list清空，以免抓到上個人的文章\n",
    "        while True: #持續翻頁取得文章清單\n",
    "            rb = [] #先將list清空，以免抓到上一頁的文章\n",
    "            try:\n",
    "                blogList = blog_url.format(i['_id'], x+300, x)\n",
    "                blogRes = rs.get(blogList, headers=head)\n",
    "                jdBlog = json.loads(blogRes.text, encoding='utf8')\n",
    "                # print jdBlog \n",
    "                rb = jdBlog['response']  \n",
    "                for rbi in rb:\n",
    "                    blogDict = {}  # 先將list清空，以免抓到上一篇文章\n",
    "                    try:\n",
    "                        blogDict['_id'] = rbi['id']\n",
    "                        blogDict['author_id'] = u\n",
    "                        blogDict['timestamp'] = time.time()\n",
    "                        blogDict['date'] = rbi['date']\n",
    "                        blogDict['url'] = rbi['url']   #部落格文章之原始之完整網址   包含文章代碼\n",
    "                        blogDict['title'] = rbi['title']\n",
    "                        blogDict['is_paid'] = rbi['is_paid']\n",
    "                        blogDict['blog_type'] = rbi['url'].split('/')[2]  #僅抓取使用者帳號與部落格網址，不抓其他資訊\n",
    "                        blogDict['browse_cnt'] = rbi['stat']['browse_cnt']\n",
    "                        blogDict['favorite_cnt'] = rbi['stat']['favorite_cnt']\n",
    "                        blogDict['share_cnt'] = rbi['stat']['share_cnt']\n",
    "                        blogDict['recommend_cnt'] = rbi['stat']['recommend_cnt']\n",
    "                        blogDict['restaurant_id'] = rbi['restaurant']['id']\n",
    "                        blogID.append(blogDict['_id'])  # 原本為restaurant 寫錯???\n",
    "                        blogs.append(blogDict)   ### 最後存成blogInfo(Final)的字典\n",
    "                        rbi['restaurant']['_id'] = rbi['restaurant']['id']\n",
    "                        rbi['restaurant']['timestamp'] = time.time()\n",
    "                        rbi['restaurant'].pop('id', None)\n",
    "                        if rbi['restaurant']['_id'] not in [ele['_id'] for ele in restList]:\n",
    "                            restList.append(rbi['restaurant'])\n",
    "                            #print 'restaurant from blog'\n",
    "                    except:  #當沒有餐廳資訊時，資料為\"restaurant\": null\n",
    "                        createLog(u, 'restaurantNull')  \n",
    "                        #print \"no restaurant data\"\n",
    "            except:\n",
    "                #print \"no response\"\n",
    "                createLog(u, 'user_blog')\n",
    "            if len(rb) < 300: #最後一頁中斷迴圈\n",
    "                break\n",
    "            x += 300   \n",
    "    \n",
    "        # copy 和 deepcopy 不同之處在於 copy 儘會複製當前物件\n",
    "        # 而 deepcopy 則是若該物件有屬性指向其他物件，則也會一併複製\n",
    "        i['blog_id_list'] = copy.deepcopy(blogID)\n",
    "        # PrintKeyValue(i)\n",
    "        # PrintKeyValue(blogDict)  #看最後一筆blogDict的內容\n",
    "            # 進入個人收藏頁面\n",
    "        collectionList = collect_url.format(i['_id'])  \n",
    "        try:\n",
    "            collectRes = rs.get(collectionList, headers=head)\n",
    "            jdCollection = json.loads(collectRes.text, encoding='utf8')\n",
    "            rc = jdCollection['response']\n",
    "            # 若使用者沒有任何收藏/推薦/到訪，不抓收藏/推薦/到訪\n",
    "            if  len(rc)>=3:\n",
    "                for j in xrange(0, 3): #抓收藏/推薦/到訪\n",
    "                    idList = []\n",
    "                    x = 0\n",
    "                    c = [] # 清空餐廳的清單\n",
    "                    c2 = {}\n",
    "                    while True:\n",
    "                        rr = []\n",
    "                        try:\n",
    "                            restReq = restaurant_url.format(rc[j]['id'], x+300, x)\n",
    "                            restRes = rs.get(restReq, headers=head)\n",
    "                            jdRestaurant = json.loads(restRes.text, encoding='utf8')\n",
    "                            rr = jdRestaurant['response']\n",
    "                            for rri in rr:\n",
    "                                try:\n",
    "                                    rri['restaurant']['_id'] = rri['restaurant']['id']\n",
    "                                    rri['restaurant']['timestamp'] = time.time()\n",
    "                                    rri['restaurant'].pop('id', None)\n",
    "                                    c2[rri['id']] = rri['restaurant']['_id']\n",
    "                                    if rri['restaurant']['_id'] not in [ele['_id'] for ele in restList]:\n",
    "                                        restList.append(rri['restaurant'])  #最後儲存餐廳資料的字典\n",
    "                                        #print 'restaurant from collection'\n",
    "                                except:\n",
    "                                    #print \"no restaurant data\"\n",
    "                                    createLog(u, 'noRestaurant')\n",
    "                        except:\n",
    "                           # print \"no response\"\n",
    "                            createLog(u, 'collection')\n",
    "                        \n",
    "                        if len(rr) < 300:\n",
    "                            break\n",
    "                        x += 300\n",
    "                    c.append(c2) #將食記{id:餐廳id} 存進c[]\n",
    "                    if j == 0:\n",
    "                        i['collection_Blog_Dic'] = copy.deepcopy(c[0])  #存收藏\n",
    "                    elif j == 1:\n",
    "                        i['recommendation_Blog_Dic'] = copy.deepcopy(c[0])  #存推薦\n",
    "                    elif j == 2:\n",
    "                        i['visit_Blog_Dic'] = copy.deepcopy(c[0])  #存到訪\n",
    "            i['timestamp'] = time.time()\n",
    "            response.append(i)\n",
    "            #print '%d users in the house' % len(response)\n",
    "        except:\n",
    "            #print \"no response\"\n",
    "            createLog(u, 'user')   \n",
    "        print 'index : ' ,indexCount,',  id : ',u\n",
    "        insertObjectToCollection(response,db.users)\n",
    "        insertObjectToCollection(blogs,db.blogs)\n",
    "        insertObjectToCollection(restList,db.restaurants)\n",
    "\n",
    "        response = [] #各個user字典檔的存放位置\n",
    "        restList = [] #各餐廳字典檔的存放位置\n",
    "        blogs = [] #各blog字典檔的存放位置\n",
    "    except:\n",
    "        #print \"no response\"\n",
    "        createLog(u, 'user')   \n"
   ]
  },
  {
   "cell_type": "markdown",
   "metadata": {
    "collapsed": false
   },
   "source": [
    "jsonDump(response)"
   ]
  },
  {
   "cell_type": "markdown",
   "metadata": {
    "collapsed": false
   },
   "source": [
    "jsonDump(blogs)"
   ]
  },
  {
   "cell_type": "markdown",
   "metadata": {
    "collapsed": false
   },
   "source": [
    "jsonDump(restList)"
   ]
  },
  {
   "cell_type": "markdown",
   "metadata": {},
   "source": [
    "### MongoDB測試"
   ]
  },
  {
   "cell_type": "code",
   "execution_count": 9,
   "metadata": {
    "collapsed": false
   },
   "outputs": [
    {
     "name": "stdout",
     "output_type": "stream",
     "text": [
      "Database(MongoClient('localhost', 27017), u'testdb')\n",
      "Collection(Database(MongoClient('localhost', 27017), u'testdb'), u'users')\n",
      "<class 'pymongo.collection.Collection'>\n"
     ]
    }
   ],
   "source": [
    "# Connect to MongoDB\n",
    "from pymongo import MongoClient\n",
    "client = MongoClient('localhost', 27017)\n",
    "db = client['testdb']\n",
    "print db\n",
    "users = db.users\n",
    "print users\n",
    "print type(users)"
   ]
  },
  {
   "cell_type": "code",
   "execution_count": 65,
   "metadata": {
    "collapsed": false
   },
   "outputs": [
    {
     "name": "stdout",
     "output_type": "stream",
     "text": [
      "共花  0.00230407714844  秒,存入collections\n"
     ]
    }
   ],
   "source": [
    "\n",
    "Stime=time.time()\n",
    "users = db.users\n",
    "for u in response:\n",
    "    users.insert_one(u)\n",
    "Etime=time.time()\n",
    "print '共花 ',Etime-Stime,' 秒,存入collections'"
   ]
  },
  {
   "cell_type": "code",
   "execution_count": 10,
   "metadata": {
    "collapsed": false
   },
   "outputs": [],
   "source": [
    "import pymongo\n",
    "\n",
    "# Insert One List\n",
    "def insertObjectToCollection(listIn,collectionName):\n",
    "    goodCount  =0\n",
    "    badCount    =0\n",
    "    for u in listIn:\n",
    "        try:\n",
    "            collectionName.insert_one(u)\n",
    "            #print('insert one object')\n",
    "            goodCount += 1\n",
    "        except pymongo.errors.DuplicateKeyError:\n",
    "            #print('collections內已有同id的object')\n",
    "            badCount += 1\n",
    "    print 'insert 成功 %d 筆 , 失敗 %d 筆' % (goodCount,badCount)"
   ]
  },
  {
   "cell_type": "code",
   "execution_count": 11,
   "metadata": {
    "collapsed": true
   },
   "outputs": [],
   "source": [
    "# Remove Collection\n",
    "def removeCollection(collectionName):\n",
    "    mesDic= collectionName.remove({})\n",
    "    print '清除了 %d 筆Object , 運行狀況 %d' % (mesDic['n'],mesDic['ok'])"
   ]
  },
  {
   "cell_type": "code",
   "execution_count": 12,
   "metadata": {
    "collapsed": true
   },
   "outputs": [],
   "source": [
    "# Drop Collection\n",
    "def DropCollection(collectionName):\n",
    "    collectionName.drop()\n",
    "    print '%s  \\n目前有 %d 筆Objects' % (collectionName,collectionName.find().count())"
   ]
  },
  {
   "cell_type": "code",
   "execution_count": 77,
   "metadata": {
    "collapsed": true
   },
   "outputs": [],
   "source": []
  },
  {
   "cell_type": "code",
   "execution_count": null,
   "metadata": {
    "collapsed": false
   },
   "outputs": [],
   "source": []
  },
  {
   "cell_type": "code",
   "execution_count": 111,
   "metadata": {
    "collapsed": false
   },
   "outputs": [
    {
     "name": "stdout",
     "output_type": "stream",
     "text": [
      "insert 成功 0 筆 , 失敗 1 筆\n"
     ]
    }
   ],
   "source": [
    "# 存 User Collection\n",
    "insertObjectToCollection(response,db.users)"
   ]
  },
  {
   "cell_type": "code",
   "execution_count": 103,
   "metadata": {
    "collapsed": false
   },
   "outputs": [
    {
     "name": "stdout",
     "output_type": "stream",
     "text": [
      "insert 成功 0 筆 , 失敗 19 筆\n"
     ]
    }
   ],
   "source": [
    "# 存 Blog Collection\n",
    "insertObjectToCollection(blogs,db.blogs)"
   ]
  },
  {
   "cell_type": "code",
   "execution_count": 104,
   "metadata": {
    "collapsed": false
   },
   "outputs": [
    {
     "name": "stdout",
     "output_type": "stream",
     "text": [
      "insert 成功 16 筆 , 失敗 0 筆\n"
     ]
    }
   ],
   "source": [
    "# 存 Restaurant Collection\n",
    "insertObjectToCollection(restList,db.restaurants)"
   ]
  },
  {
   "cell_type": "code",
   "execution_count": 17,
   "metadata": {
    "collapsed": false
   },
   "outputs": [
    {
     "name": "stdout",
     "output_type": "stream",
     "text": [
      "清除了 0 筆Object , 運行狀況 1\n"
     ]
    }
   ],
   "source": [
    "removeCollection(db.users)"
   ]
  },
  {
   "cell_type": "code",
   "execution_count": 28,
   "metadata": {
    "collapsed": false
   },
   "outputs": [
    {
     "name": "stdout",
     "output_type": "stream",
     "text": [
      "Collection(Database(MongoClient('localhost', 27017), u'testdb'), u'users')  \n",
      "目前有 0 筆Objects\n",
      "Collection(Database(MongoClient('localhost', 27017), u'testdb'), u'blogs')  \n",
      "目前有 0 筆Objects\n",
      "Collection(Database(MongoClient('localhost', 27017), u'testdb'), u'restaurants')  \n",
      "目前有 0 筆Objects\n"
     ]
    }
   ],
   "source": [
    "DropCollection(db.users)\n",
    "DropCollection(db.blogs)\n",
    "DropCollection(db.restaurants)"
   ]
  },
  {
   "cell_type": "code",
   "execution_count": 56,
   "metadata": {
    "collapsed": false
   },
   "outputs": [],
   "source": [
    "def secToHMS(secIn):\n",
    "    h   = int(secIn / 3600)\n",
    "    m  = int(( secIn -  h*3600 ) / 60)\n",
    "    s    = float(secIn)  -  h*3600  - m*60\n",
    "    print '運行了%d時,%d分,%.1f秒' % (h,m,s)\n"
   ]
  },
  {
   "cell_type": "code",
   "execution_count": 57,
   "metadata": {
    "collapsed": false
   },
   "outputs": [
    {
     "name": "stdout",
     "output_type": "stream",
     "text": [
      "運行了0時,0分,2.2秒\n"
     ]
    }
   ],
   "source": [
    "secToHMS(2.2)"
   ]
  },
  {
   "cell_type": "code",
   "execution_count": 39,
   "metadata": {
    "collapsed": false
   },
   "outputs": [
    {
     "name": "stdout",
     "output_type": "stream",
     "text": [
      "運行了1時,1分,0秒\n"
     ]
    }
   ],
   "source": [
    "secToHMS(3660)"
   ]
  },
  {
   "cell_type": "code",
   "execution_count": 40,
   "metadata": {
    "collapsed": false
   },
   "outputs": [
    {
     "name": "stdout",
     "output_type": "stream",
     "text": [
      "運行了0時,11分,35秒\n"
     ]
    }
   ],
   "source": [
    "secToHMS(695)"
   ]
  },
  {
   "cell_type": "code",
   "execution_count": null,
   "metadata": {
    "collapsed": true
   },
   "outputs": [],
   "source": [
    "def secToHMS(secIn):\n",
    "    h=secIn / 3600\n",
    "    m= ( secIn -  h*3600 ) / 60\n",
    "    s=secIn  -  h*3600  - m*60\n",
    "    print '運行了%d時,%d分,%d秒' % (h,m,s)"
   ]
  },
  {
   "cell_type": "code",
   "execution_count": 11,
   "metadata": {
    "collapsed": false
   },
   "outputs": [
    {
     "name": "stdout",
     "output_type": "stream",
     "text": [
      "2.00114917755\n",
      "0.000555874771542:0.0:0.0\n"
     ]
    }
   ],
   "source": [
    "\n",
    "\n",
    "import time\n",
    "STime=time.time()\n",
    "time.sleep(2)\n",
    "Etime=time.time()\n",
    "costTime=Etime-STime\n",
    "print  costTime\n",
    "secToHMS(costTime)\n",
    "\n",
    "\n",
    "\n"
   ]
  },
  {
   "cell_type": "code",
   "execution_count": 12,
   "metadata": {
    "collapsed": false
   },
   "outputs": [
    {
     "name": "stdout",
     "output_type": "stream",
     "text": [
      "0\n"
     ]
    }
   ],
   "source": [
    "sec=3500\n",
    "h=sec/3600\n",
    "print  h\n"
   ]
  },
  {
   "cell_type": "code",
   "execution_count": null,
   "metadata": {
    "collapsed": true
   },
   "outputs": [],
   "source": []
  }
 ],
 "metadata": {
  "kernelspec": {
   "display_name": "Python 2",
   "language": "python",
   "name": "python2"
  },
  "language_info": {
   "codemirror_mode": {
    "name": "ipython",
    "version": 2
   },
   "file_extension": ".py",
   "mimetype": "text/x-python",
   "name": "python",
   "nbconvert_exporter": "python",
   "pygments_lexer": "ipython2",
   "version": "2.7.11"
  }
 },
 "nbformat": 4,
 "nbformat_minor": 0
}
