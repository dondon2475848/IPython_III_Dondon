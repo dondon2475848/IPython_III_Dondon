{
 "cells": [
  {
   "cell_type": "markdown",
   "metadata": {},
   "source": [
    "### 安裝Ming \n",
    "pip install ming\n"
   ]
  },
  {
   "cell_type": "code",
   "execution_count": 6,
   "metadata": {
    "collapsed": true
   },
   "outputs": [],
   "source": [
    "from ming import *\n",
    "from ming import collection, Field, schema\n",
    "import json"
   ]
  },
  {
   "cell_type": "code",
   "execution_count": 10,
   "metadata": {
    "collapsed": true
   },
   "outputs": [],
   "source": [
    "#Def\n",
    "def jsonDump(dataIn):\n",
    "    print json.dumps(dataIn,ensure_ascii=False).encode('utf-8')"
   ]
  },
  {
   "cell_type": "code",
   "execution_count": 4,
   "metadata": {
    "collapsed": false
   },
   "outputs": [],
   "source": [
    "session = Session(create_datastore('mongodb://localhost:27017/mingDb'))"
   ]
  },
  {
   "cell_type": "code",
   "execution_count": null,
   "metadata": {
    "collapsed": true
   },
   "outputs": [],
   "source": [
    "user = collection('user', session,\n",
    "    Field('_id', schema.ObjectId),\n",
    "    Field('post_cnt', schema.Int),\n",
    "    Field('following_cnt', schema.String),\n",
    "    Field('profile_pic_origin', schema.String),\n",
    "    Field('browse_cnt', schema.Int),\n",
    "    Field('checkin_cnt', schema.String),\n",
    "    Field('food_type', dict([\n",
    "                                            烤雞/烤鴨\n",
    "                                            羊肉爐/牛肉湯\n",
    "                                            主題/景觀餐廳\n",
    "                                            海產/熱炒餐廳\n",
    "                                            自助餐\n",
    "                                            合菜\n",
    "                                            甜點/冰品/飲料/烘培\n",
    "                                            義式/歐風/異國\n",
    "                                            東南亞料理\n",
    "                                            串燒/碳烤/居酒屋/燒烤\n",
    "                                            牛排館/鐵板燒\n",
    "                                            韓式料理\n",
    "                                            酒吧/餐酒館\n",
    "                                            港式餐廳\n",
    "                                            美式餐廳/早午餐\n",
    "                                            日式料理\n",
    "                                            素食/蔬食\n",
    "                                            台式/中式/小吃\n",
    "                                            鍋類\n",
    "                                            咖啡/輕食/下午茶\n",
    "            ])),\n",
    "    Field('following_cnt', schema.String),\n",
    "    Field('following_cnt', schema.String),\n",
    "    Field('following_cnt', schema.String),\n",
    "    Field('following_cnt', schema.String),\n",
    "    Field('following_cnt', schema.String),\n",
    "    Field('following_cnt', schema.String),\n",
    "    Field('following_cnt', schema.String)\n",
    ")\n",
    "\n",
    " dict(\n",
    "       username=str,\n",
    "       display_name=str)),\n",
    "    \n",
    "    \n",
    "\n",
    "food_type <type 'dict'>\n",
    "fav_cnt <type 'int'>\n",
    "display_name <type 'unicode'>\n",
    "blog_id_list <type 'list'>\n",
    "blog_cnt_by_type <type 'dict'>\n",
    "collection_blog_list <type 'dict'>\n",
    "sentiment_score <type 'dict'>\n",
    "predecessors <type 'list'>\n",
    "timestamp <type 'float'>\n",
    "visit_blog_list <type 'dict'>\n",
    "active_region <type 'dict'>\n",
    "fans_id_list <type 'list'>\n",
    "between_zscore <type 'dict'>\n",
    "certified <type 'bool'>\n",
    "follower_cnt <type 'int'>\n",
    "recommendation_blog_list <type 'dict'>\n",
    "like <type 'dict'>\n",
    "page_rank <type 'float'>\n",
    "within_zscore <type 'dict'>\n",
    "recommendation_count <type 'int'>\n"
   ]
  },
  {
   "cell_type": "code",
   "execution_count": 7,
   "metadata": {
    "collapsed": false
   },
   "outputs": [],
   "source": [
    "with open('/home/dondon/pCloudDrive/AB101_Group4/data/2016_07_09_User_Json_for_network_維軒/UserForNetwork.json') as f:\n",
    "    jd=json.load(f)"
   ]
  },
  {
   "cell_type": "code",
   "execution_count": 8,
   "metadata": {
    "collapsed": false
   },
   "outputs": [
    {
     "name": "stdout",
     "output_type": "stream",
     "text": [
      "351\n"
     ]
    }
   ],
   "source": [
    "print len(jd)"
   ]
  },
  {
   "cell_type": "code",
   "execution_count": 15,
   "metadata": {
    "collapsed": false
   },
   "outputs": [
    {
     "name": "stdout",
     "output_type": "stream",
     "text": [
      " post_cnt <type 'int'>\n",
      "following_cnt <type 'int'>\n",
      "profile_pic_origin <type 'unicode'>\n",
      "browse_cnt <type 'int'>\n",
      "checkin_cnt <type 'int'>\n",
      "food_type <type 'dict'>\n",
      "fav_cnt <type 'int'>\n",
      "display_name <type 'unicode'>\n",
      "blog_id_list <type 'list'>\n",
      "blog_cnt_by_type <type 'dict'>\n",
      "collection_blog_list <type 'dict'>\n",
      "sentiment_score <type 'dict'>\n",
      "predecessors <type 'list'>\n",
      "timestamp <type 'float'>\n",
      "visit_blog_list <type 'dict'>\n",
      "active_region <type 'dict'>\n",
      "fans_id_list <type 'list'>\n",
      "between_zscore <type 'dict'>\n",
      "certified <type 'bool'>\n",
      "follower_cnt <type 'int'>\n",
      "recommendation_blog_list <type 'dict'>\n",
      "like <type 'dict'>\n",
      "page_rank <type 'float'>\n",
      "within_zscore <type 'dict'>\n",
      "recommendation_count <type 'int'>\n",
      "_id <type 'unicode'>\n"
     ]
    }
   ],
   "source": [
    "for u in jd.values()[0:1]:\n",
    "    for u2 in u.keys():\n",
    "        print u2,type(u[u2])"
   ]
  },
  {
   "cell_type": "code",
   "execution_count": 17,
   "metadata": {
    "collapsed": false
   },
   "outputs": [
    {
     "name": "stdout",
     "output_type": "stream",
     "text": [
      "烤雞/烤鴨\n",
      "羊肉爐/牛肉湯\n",
      "主題/景觀餐廳\n",
      "海產/熱炒餐廳\n",
      "自助餐\n",
      "合菜\n",
      "甜點/冰品/飲料/烘培\n",
      "義式/歐風/異國\n",
      "東南亞料理\n",
      "串燒/碳烤/居酒屋/燒烤\n",
      "牛排館/鐵板燒\n",
      "韓式料理\n",
      "酒吧/餐酒館\n",
      "港式餐廳\n",
      "美式餐廳/早午餐\n",
      "日式料理\n",
      "素食/蔬食\n",
      "台式/中式/小吃\n",
      "鍋類\n",
      "咖啡/輕食/下午茶\n"
     ]
    }
   ],
   "source": [
    "for u in jd.values()[0:1]:\n",
    "    for u2 in u.keys():\n",
    "        if u2=='food_type':\n",
    "            for u3 in u[u2]:\n",
    "                print u3"
   ]
  },
  {
   "cell_type": "code",
   "execution_count": null,
   "metadata": {
    "collapsed": true
   },
   "outputs": [],
   "source": []
  }
 ],
 "metadata": {
  "kernelspec": {
   "display_name": "Python 2",
   "language": "python",
   "name": "python2"
  },
  "language_info": {
   "codemirror_mode": {
    "name": "ipython",
    "version": 2
   },
   "file_extension": ".py",
   "mimetype": "text/x-python",
   "name": "python",
   "nbconvert_exporter": "python",
   "pygments_lexer": "ipython2",
   "version": "2.7.11"
  }
 },
 "nbformat": 4,
 "nbformat_minor": 0
}
