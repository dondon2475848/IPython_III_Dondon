{
 "cells": [
  {
   "cell_type": "code",
   "execution_count": 5,
   "metadata": {
    "collapsed": true
   },
   "outputs": [],
   "source": [
    "#Def\n",
    "def jsonDump(dataIn):\n",
    "    print json.dumps(dataIn,ensure_ascii=False).encode('utf-8')"
   ]
  },
  {
   "cell_type": "code",
   "execution_count": null,
   "metadata": {
    "collapsed": false
   },
   "outputs": [],
   "source": [
    "import json\n",
    "with open('/home/dondon/pCloudDrive/AB101_Group4/data/python27_dataForGitHubˍ維軒/AB101_Group4/ifoodie/20160616_ifoodie與OpenRice2_維軒/data/openriceRestaurantDic20160609.json','r') as f:\n",
    "    jd=json.load(f)"
   ]
  },
  {
   "cell_type": "code",
   "execution_count": 10,
   "metadata": {
    "collapsed": false
   },
   "outputs": [
    {
     "name": "stdout",
     "output_type": "stream",
     "text": [
      "[\"花蝶1525綠茶館|東民路159號(尚順廣場內)\", \"邱記涼麵|吳興街281巷1號\", \"Cafe Sole|光復南路133號\", \"Awhile|文化路一段45巷18號\", \"易家鯊魚麵|林口街1號\", \"Tiff's Place|信義路四段395巷6弄12號\", \"拉麵專賣店|大同路二段3號\", \"Easy House|基隆路二段7號1樓\", \"西提牛排|信一路177號15樓\", \"甲尚豐炭火燒肉|信一路177號28樓(皇冠大樓)\"]\n"
     ]
    }
   ],
   "source": [
    "jsonDump(jd.values()[0:10])"
   ]
  },
  {
   "cell_type": "code",
   "execution_count": null,
   "metadata": {
    "collapsed": true
   },
   "outputs": [],
   "source": []
  }
 ],
 "metadata": {
  "kernelspec": {
   "display_name": "Python 2",
   "language": "python",
   "name": "python2"
  },
  "language_info": {
   "codemirror_mode": {
    "name": "ipython",
    "version": 2
   },
   "file_extension": ".py",
   "mimetype": "text/x-python",
   "name": "python",
   "nbconvert_exporter": "python",
   "pygments_lexer": "ipython2",
   "version": "2.7.11"
  }
 },
 "nbformat": 4,
 "nbformat_minor": 0
}
