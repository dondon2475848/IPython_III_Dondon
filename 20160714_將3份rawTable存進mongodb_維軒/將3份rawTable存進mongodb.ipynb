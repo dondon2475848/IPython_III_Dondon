{
 "cells": [
  {
   "cell_type": "code",
   "execution_count": 1,
   "metadata": {
    "collapsed": true
   },
   "outputs": [],
   "source": [
    "# -*- coding: utf-8 -*-\n",
    "\n",
    "# import\n",
    "import json\n",
    "import time"
   ]
  },
  {
   "cell_type": "code",
   "execution_count": 2,
   "metadata": {
    "collapsed": true
   },
   "outputs": [],
   "source": [
    "#Def\n",
    "def jsonDump(dataIn):\n",
    "    print json.dumps(dataIn,ensure_ascii=False).encode('utf-8')"
   ]
  },
  {
   "cell_type": "code",
   "execution_count": 5,
   "metadata": {
    "collapsed": false,
    "scrolled": true
   },
   "outputs": [
    {
     "name": "stdout",
     "output_type": "stream",
     "text": [
      "User Table的長度為 294634\n",
      "Blog Table的長度為 72838\n",
      "Restaurant Table的長度為 27912\n"
     ]
    }
   ],
   "source": [
    "#### 讀三份raw data \n",
    "dirPath='/home/dondon/pCloudDrive/AB101_Group4/data/Ipython_dataForGitHubˍ維軒/20160714_將3份rawTable存進mongodb_維軒/data/'\n",
    "with open(dirPath+'ifoodieUserDic20160524.json' , 'r') as f:\n",
    "    usersRawTable=json.load(f)\n",
    "print 'User Table的長度為',len(usersRawTable)\n",
    "\n",
    "with open(dirPath+'ifoodieBlogDic20160619Update5PixnetSmallEnglish.json' , 'r') as f:\n",
    "    blogsRawTable=json.load(f)\n",
    "print 'Blog Table的長度為',len(blogsRawTable)\n",
    "\n",
    "with open(dirPath+'ifoodieRestaurantDic20160524.json' , 'r') as f:\n",
    "    restaurantRawTable=json.load(f)\n",
    "print 'Restaurant Table的長度為',len(restaurantRawTable)"
   ]
  },
  {
   "cell_type": "markdown",
   "metadata": {},
   "source": [
    "#### 檢查table中的資料"
   ]
  },
  {
   "cell_type": "code",
   "execution_count": 8,
   "metadata": {
    "collapsed": true
   },
   "outputs": [
    {
     "name": "stdout",
     "output_type": "stream",
     "text": [
      "{\"fav_cnt\": 0, \"fans_id_list\": [\"5500c8522756dd736a9a6851\", \"53e5f086d4fdab477375e890\", \"54f29e5a2756dd042bb608a0\", \"56e8e529699b6e7fbf22d50b\", \"536db89e40d18d15bfe7a659\", \"563c71f1699b6e7ba3bb1cea\", \"564b62bd699b6e6cebda840f\", \"55b7a9f0699b6e64d35f2ca5\", \"573ae62f699b6e4685822810\", \"545e3b44d4fdab540fe27ea3\", \"57368f2a699b6e07895e10c4\", \"543f4e6cd4fdab71ee952803\", \"57319a23699b6e07d8a42a33\", \"54be7f2ed4fdab6eef799ed9\", \"572dd39c699b6e153948d68c\", \"572c26bd699b6e7c3f95ad45\", \"570f61ed2756dd2f8d5a5ae3\", \"5409bf74d4fdab1f2961ab1a\", \"5635ff9f2756dd60ca9b8a09\", \"559d34f62756dd794a08866f\", \"53d6394fd4fdab74bcb0739d\", \"570ca9c72756dd51b5e32f45\", \"571a04f2699b6e4c906d3057\", \"533fb7c840d18d3d4f142382\", \"57014bdf699b6e41372e1a8a\", \"56ff92fe2756dd073610c3cf\", \"56fa5bf6699b6e7d555dfdaa\", \"56ed225b699b6e7182cd1481\", \"56e1277b2756dd0a10ebec62\", \"56d5710b2756dd70011e994d\", \"56c343642756dd513eff39fe\", \"56be84d22756dd3cfc31881d\", \"55417f2e699b6e70cb6c056f\", \"567cace92756dd75f479d78d\", \"566960642756dd368bad607c\", \"565c2e812756dd58529cc970\", \"53d1ffcfd4fdab16d4c190a7\", \"5647726f2756dd7474d59638\", \"538c943040d18d6b7e1074f7\", \"561fe6262756dd0458b0eb3c\", \"570f30902756dd2eac7b6125\", \"560f48c2699b6e0ba20790b7\", \"560cadcd2756dd1362af9e6b\", \"560396872756dd5922b1b48d\", \"560285cb699b6e0773f9b20b\", \"55f3fc522756dd4dbdfc5776\", \"55e16b912756dd6f9c796226\", \"55d2a016699b6e124e279421\", \"55b2f4892756dd6c65ae0e8f\", \"55b021d7699b6e5af2bc3acc\", \"55acaf1e2756dd280cb44f20\", \"55ab4c202756dd4fff4345d2\", \"55a0fb73699b6e1dd85a8329\", \"54ca39c32756dd1535ba84f4\", \"554119c22756dd0437efc018\", \"53ceb32dd4fdab541b6c4170\", \"550eeff72756dd5b0e01c0fc\", \"549d9bb7d4fdab7defdd9f2a\", \"5476e288d4fdab1857d80cbd\", \"54687dcbd4fdab6614ce5202\", \"549a7d75d4fdab198b03e99d\", \"54ffda6f2756dd64cfbab26c\", \"54fbb3822756dd44fd8ad6e2\", \"54e92c642756dd5dc86dea06\", \"54d97fb42756dd763ed6136d\", \"53d340ead4fdab31965b8e6a\", \"53e5e989d4fdab47755f8696\", \"53baaa07d4fdab783e7465f0\", \"538dc76a40d18d7e53e1adad\", \"53f43696d4fdab56217d1e2c\", \"56a23f102756dd035b1c47aa\", \"54bb7b11d4fdab2128c2e0cd\", \"56f54bd8699b6e6b27aedfec\", \"5574833c699b6e0cb0a48593\", \"55db3b5b699b6e49833c3f9d\"], \"follower_cnt\": 75, \"recommendation_blog_list\": {}, \"display_name\": \"Bakkutteh\", \"following_cnt\": 44, \"timestamp\": 1464135667.22, \"blog_id_list\": [\"5742d13323679c3bb2ded4ff\", \"573ec6342756dd49fe098d48\", \"573c37dd699b6e5a45cbd003\", \"571094892756dd35e611ecef\", \"570f12b7699b6e2711560988\", \"56fb4952699b6e1f435d054b\", \"56f8f16b2756dd2261a5194c\", \"56e274a8699b6e026f025476\", \"56d95a182756dd67663d7525\", \"56d0256f2756dd60404de3b5\", \"56c17c502756dd16c9b73203\", \"56d65763699b6e705e239bb8\", \"56a84371699b6e6579c469cf\", \"56a847f1699b6e6578126d33\"], \"post_cnt\": 14, \"profile_pic_origin\": \"https://lh3.googleusercontent.com/r9xnN3mSZ1v8F_7NFNbGkPjmbDD6kjwLAsydcSnu_lviqViS7DMjUuezBk8Y6gzwvgoEzUu4jNU6frsVfaUFwQJptnoQFQ=s600\", \"browse_cnt\": 7164, \"checkin_cnt\": 14, \"collection_blog_list\": {}, \"_id\": \"56a842e32756dd13f13b3e0c\", \"visit_blog_list\": {\"56f8f16b2756dd2261a5194c\": \"559b452ac03a1002dd4db53a\", \"573ec6342756dd49fe098d48\": \"573f52062756dd277ed57882\", \"56d65763699b6e705e239bb8\": \"56d72b2d2756dd2ab04a2128\", \"56fb4952699b6e1f435d054b\": \"56d5da432756dd66e86a5d8a\", \"571094892756dd35e611ecef\": \"559bbd7bc03a101f6d8b5ae3\", \"56d0256f2756dd60404de3b5\": \"566db3f72756dd2458ccb5e2\", \"56a847f1699b6e6578126d33\": \"56a906cd2756dd2726cf7c18\", \"570f12b7699b6e2711560988\": \"5594e117c03a100f375ba1c5\", \"56d95a182756dd67663d7525\": \"5594e741c03a1010d8359f78\", \"573c37dd699b6e5a45cbd003\": \"5594e0cfc03a100f375ba1a2\", \"56e274a8699b6e026f025476\": \"56a906cd2756dd2726cf7c18\", \"5742d13323679c3bb2ded4ff\": \"574346a92756dd1fd681dd6d\", \"56c17c502756dd16c9b73203\": \"56a906cd2756dd2726cf7c18\", \"56a84371699b6e6579c469cf\": \"5594e117c03a100f375ba1c5\"}, \"certified\": true}\n"
     ]
    }
   ],
   "source": [
    "jsonDump(usersRawTable['56a842e32756dd13f13b3e0c'])"
   ]
  },
  {
   "cell_type": "code",
   "execution_count": 11,
   "metadata": {
    "collapsed": false
   },
   "outputs": [
    {
     "name": "stdout",
     "output_type": "stream",
     "text": [
      "{\"blog_type\": \"hrylin.pixnet.net\", \"title\": \"南投埔里18度C巧克力工房。小鎮中自成商圈的名店\", \"url\": \"http://hrylin.pixnet.net/blog/post/42096367\", \"timestamp\": 1464118115.318, \"is_paid\": false, \"recommend_cnt\": 9, \"browse_cnt\": 997, \"favorite_cnt\": 63, \"share_cnt\": 14, \"date\": 1426694401.0, \"article\": \"埔里這家18度c巧克力工房，之前就聽過他的名聲，只是上次來的時候，整個區域人車擁擠，多到連車子都不知道要停到哪去，加上看到排隊的人龍，就讓我們打了退堂鼓。這次來到南投，就又把它排進行程，一整個就是沒去成不甘休阿~xdd*18度c巧克力工房跟著gps繞著，感覺到了附近並沒有什麼店家或是景點的區域，這家赫赫有名的巧克力店，竟然就坐落在這附近。不過，最令我驚奇的是....路口附近有人在指揮交通，旁邊還設有免費停車場?!!這天下午來的時間還算早，所以停車場只需要等候一下就有位置，連停車場中都有專人在指揮引導，這種服務會不會太厲害了一點?!*一條路兩邊都有他們的店!停好車往人潮走去，古怪的是一條馬路的兩邊都有人?搞不清楚哪邊在幹嘛下先張望了一下。原來，這邊轉角處是賣巧克力的區域，對面則是公共廁所外加旁邊是免費咖啡或茶供應!沒錯，你沒聽錯，是免費供應咖啡和茶!!*想喝什麼自己拿!原本看那門面的樣子，一直以為是賣生意很好飲料的店家，真的靠近才發現也是屬於18度c的，只是飲料不賣只請大家喝，你喝一杯不夠?沒關係在走去拿一杯~~應該就是希望大家拿著咖啡或茶來配一下他們的巧克力吧~xd*巧克力門市走回來這頭，兩間的巧克力店面，一個是需要拿號碼牌排隊進入的店面。他們為了維持店內空調的溫度，所以有特別管制每次入門市內的人，對於想要買單顆之類的朋友，就適合在這邊抽號碼牌等候進入，這厚工的程度真的讓我有點吃驚了!當然，想要快的朋友，旁邊一大群的人潮，全部都是排隊直接快速外帶的啦~*外帶選單排隊入口就放著大選單讓大家可以先看看想要買哪種口味，價位都在300-400元左右，隊伍跟著線前進，櫃台前都還有價目表及電視螢幕show著產品，一整個動線規畫的滿順暢方便的。(真的很厲害!應該有找我們讀ie的來規畫~:p)快速來到台前，因為能存放的時間也不長，所以只買了一盒的抹茶巧克力(ntd$300)。店員非常俐落的拿出來包裝，看到這很有質感的包裝外帶，真的又讓人驚喜了~*包裝也超精美除了袋子很精緻之外，巧克力的包裝盒也做的超精美的!外觀看起來就有點像是皮革般的紋路，因為大家都是遠道外帶，他們還用漂亮的黑套子套在冰塊上，當作保冰袋使用，有沒有這麼仔細!!除了賣巧克力之外，另外一邊排隊的則是賣著義大利手工冰淇淋!看那排隊的人潮比巧克力的還要多吧，只是沒特別去排不知道到底是多利害!!*也賣冰除了手工冰淇淋之外，不想排隊的話在停車場這頭也有賣著霜淇淋，來到這就會三不五時看到有人拿著冰在吃，我想夏天時很熱的中台灣，這玩意應該超好賣吧!!不過，當我們打開盒子的時候，又讓我有點驚嚇到了!盒子很大，但是裡面的巧克力大概只佔2/3吧，每一塊巧克力切的小小塊的，和之前在吃來自日本的royce巧克力比起來，這大小真的連塞牙縫都無感阿~(不過royce在台灣賣520...orz)*抹茶巧克力不過他們的巧克力做的真的還不錯，吃起來不會太甜太膩，抹茶粉和巧克力入口慢慢的融化，淡淡的巧克力苦味散發出來，還不錯吃。但這樣一口一顆就10元耶~我嘴巴大，一次通常是吃兩顆~xdddd但他們最厲害的還是能在這地區完全自成一個小商圈，除了他們賣的巧克力之外，似乎也想賣起年輪蛋糕，另外旁邊好幾戶人家也各自賣起小玩具或是吃的，完全就是希望他們帶來的人潮能夠在分點好處給街坊鄰居吧~~(如果來個巧克力限量，會不會就出現類似福義軒的另外一股商機~:p)品嚐造訪時間：2015.03.01地址：南投縣埔里鎮慈恩街20號電話：049-2984863營業時間：10:00-22:00(全年無休)[延伸閱讀],,,,\", \"author_id\": \"54a89032d4fdab7c2f7fc0a4\", \"_id\": \"550ac676e498ef250456de6a\", \"restaurant_id\": \"5594e304c03a100f375ba2c0\"}\n"
     ]
    }
   ],
   "source": [
    "jsonDump(blogsRawTable['550ac676e498ef250456de6a'])"
   ]
  },
  {
   "cell_type": "code",
   "execution_count": 12,
   "metadata": {
    "collapsed": true
   },
   "outputs": [
    {
     "name": "stdout",
     "output_type": "stream",
     "text": [
      "{\"city\": \"南投縣\", \"name\": \"遇見幸福-Pizza & Coffee\", \"last_visit\": 1462204806.0, \"phone\": \"0982457172\", \"opening_hours\": \"今日休息\", \"avg_price\": 0, \"blog_cnt\": 1, \"cover_url\": \"https://lh3.googleusercontent.com/q21mosN3x5nDCRhYcm60Pc9Nxc21DOS6HgFDBRz3XJYkgQR_SbKAmk0Ljcd4nLKwdADK8qI6sk88YpP6JRuuDmcHFrMhfT4=s600\", \"cover_author\": \"Yuki's Life\", \"admin_name\": \"魚池鄉\", \"visit_cnt\": 1, \"timestamp\": 1464141768.266, \"address\": \"南投縣魚池鄉中明村文化巷2之5號\", \"lat\": 23.88866, \"lng\": 120.922258, \"_id\": \"5728e96e2756dd6745e65e4a\"}\n"
     ]
    }
   ],
   "source": [
    "jsonDump(restaurantRawTable['5728e96e2756dd6745e65e4a'])"
   ]
  },
  {
   "cell_type": "code",
   "execution_count": 14,
   "metadata": {
    "collapsed": false
   },
   "outputs": [],
   "source": [
    "# Connect to MongoDB\n",
    "from pymongo import MongoClient\n",
    "client = MongoClient('localhost', 27017)\n",
    "db = client['ab101group4']"
   ]
  },
  {
   "cell_type": "code",
   "execution_count": 15,
   "metadata": {
    "collapsed": false
   },
   "outputs": [
    {
     "name": "stdout",
     "output_type": "stream",
     "text": [
      "共花  80.5319988728  秒\n"
     ]
    }
   ],
   "source": [
    "# 存User Table\n",
    "Stime=time.time()\n",
    "usersRawTable20160714 = db.usersRawTable20160714\n",
    "for u in usersRawTable.values():\n",
    "    usersRawTable20160714.insert_one(u)\n",
    "Etime=time.time()\n",
    "print '共花 ',Etime-Stime,' 秒'"
   ]
  },
  {
   "cell_type": "code",
   "execution_count": 16,
   "metadata": {
    "collapsed": false
   },
   "outputs": [
    {
     "name": "stdout",
     "output_type": "stream",
     "text": [
      "共花  20.217605114  秒\n"
     ]
    }
   ],
   "source": [
    "# 存 blogsRawTable\n",
    "Stime=time.time()\n",
    "blogsRawTable20160714 = db.blogsRawTable20160714\n",
    "for u in blogsRawTable.values():\n",
    "    blogsRawTable20160714.insert_one(u)\n",
    "Etime=time.time()\n",
    "print '共花 ',Etime-Stime,' 秒'"
   ]
  },
  {
   "cell_type": "code",
   "execution_count": 17,
   "metadata": {
    "collapsed": false
   },
   "outputs": [
    {
     "name": "stdout",
     "output_type": "stream",
     "text": [
      "共花  5.75826597214  秒\n"
     ]
    }
   ],
   "source": [
    "# 存 restaurantRawTable\n",
    "Stime=time.time()\n",
    "restaurantRawTable20160714 = db.restaurantRawTable20160714\n",
    "for u in restaurantRawTable.values():\n",
    "    restaurantRawTable20160714.insert_one(u)\n",
    "Etime=time.time()\n",
    "print '共花 ',Etime-Stime,' 秒'"
   ]
  },
  {
   "cell_type": "code",
   "execution_count": null,
   "metadata": {
    "collapsed": true
   },
   "outputs": [],
   "source": [
    "#### 檢查"
   ]
  },
  {
   "cell_type": "code",
   "execution_count": 25,
   "metadata": {
    "collapsed": false
   },
   "outputs": [
    {
     "name": "stdout",
     "output_type": "stream",
     "text": [
      "usersRawTable20160714 的長度為 294634\n",
      "blogsRawTable20160714 的長度為 72838\n",
      "restaurantRawTable20160714 的長度為 27912\n"
     ]
    }
   ],
   "source": [
    "print 'usersRawTable20160714 的長度為',usersRawTable20160714.count()\n",
    "print 'blogsRawTable20160714 的長度為',blogsRawTable20160714.count()\n",
    "print 'restaurantRawTable20160714 的長度為',restaurantRawTable20160714.count()"
   ]
  },
  {
   "cell_type": "code",
   "execution_count": 20,
   "metadata": {
    "collapsed": true
   },
   "outputs": [
    {
     "data": {
      "text/plain": [
       "{u'_id': u'5736ee0f2756dd50e29f37f4',\n",
       " u'blog_id_list': [],\n",
       " u'browse_cnt': 0,\n",
       " u'certified': False,\n",
       " u'checkin_cnt': 0,\n",
       " u'collection_blog_list': {},\n",
       " u'display_name': u'\\u9ec3\\u6690\\u5a77',\n",
       " u'fans_id_list': [u'573fd6a1699b6e13398d3549',\n",
       "  u'572aefe5699b6e678fbb9132',\n",
       "  u'5725efa8699b6e4fe7666aeb',\n",
       "  u'56e826512756dd2568df68d1',\n",
       "  u'56d310a6699b6e6150a1c618',\n",
       "  u'56322a362756dd2686411a14',\n",
       "  u'5629fa332756dd73af0099ab',\n",
       "  u'55dc24b32756dd36279f4cc1',\n",
       "  u'55b576f32756dd4ec6b6efdd',\n",
       "  u'55a8cc86699b6e0dc4409787',\n",
       "  u'55a1cb512756dd7ce11d6c1b',\n",
       "  u'55a090ad2756dd6bd9a1def4',\n",
       "  u'54fa5b2f2756dd10c5aa4852',\n",
       "  u'53ea5e7ad4fdab2e7010d424',\n",
       "  u'53e119d1d4fdab771441424b',\n",
       "  u'53ddf83dd4fdab1472d747b1',\n",
       "  u'53bc05f3d4fdab09f371f69b',\n",
       "  u'53b63ebcd4fdab58faa1e463'],\n",
       " u'fav_cnt': 0,\n",
       " u'follower_cnt': 18,\n",
       " u'following_cnt': 18,\n",
       " u'post_cnt': 0,\n",
       " u'profile_pic_origin': u'https://graph.facebook.com/v2.0/1185986781419775/picture?width=800&height=800',\n",
       " u'recommendation_blog_list': {},\n",
       " u'timestamp': 1464085792.351,\n",
       " u'visit_blog_list': {}}"
      ]
     },
     "execution_count": 20,
     "metadata": {},
     "output_type": "execute_result"
    }
   ],
   "source": [
    "usersRawTable20160714.find_one()"
   ]
  },
  {
   "cell_type": "code",
   "execution_count": 34,
   "metadata": {
    "collapsed": false
   },
   "outputs": [
    {
     "name": "stdout",
     "output_type": "stream",
     "text": [
      "{\"blog_type\": \"minikopeng.pixnet.net\", \"title\": \"[新店]Soleil 法陽烘培坊.推薦每日特餐\", \"url\": \"http://minikopeng.pixnet.net/blog/post/38813619\", \"timestamp\": 1464146260.33, \"is_paid\": false, \"recommend_cnt\": 2, \"browse_cnt\": 1721, \"date\": 1362902400.0, \"share_cnt\": 15, \"favorite_cnt\": 70, \"article\": \"soleil法陽02-22129818新北市新店區安豐路5號soleil法陽一個有法式烘焙、義式甜點、咖啡、麵包....特別的地方這裡最特別的是每日限量推出的特餐會知道法陽是因為花蓮傑米的介紹就因為如此....讓我一試成主顧麵包、甜點、特餐都讓我超級喜歡短短的時間,我來訪了三次每次來都會有不同的驚喜!!每次總是很期待看到很有特色的特餐第一次來訪是傑米的關係沒想到一次吃到八種sauce營養滿分的三明治輕食好豐盛阿這裡的咖啡喝起來都有特別的風味帶點水果的香氣都是店家親自烘培嚴選的咖啡豆我的最愛,熱可可因為傑米的關係....我們第一次來就吃到10a的和牛入口即化阿正統道地義大利提拉米蘇超級好吃的這草莓也太sweet了好吃的烤布蕾跟著咖啡去旅行在這裡可以品嚐到許多口味的咖啡如果你懂咖啡,一定要點上一杯咖啡特殊風味的咖啡豆煮出來的好喝咖啡好美的拉花阿培根焗烤三明治真的超級正點的！！超級香濃的南瓜濃湯現點現作燉飯超可口香草冰淇淋搭配新鮮現做的草莓卷下午一點後麵包點心開始出爐這裡的可麗露一定要推薦給大家這是我目前為止吃過最好吃,不膩不甜的可麗露了這是我們第三次來用餐,每次都是驚喜阿當然每次都是新口味,都好可口想吃的小狗吵吵組吳小聿也有來這倒真的太太太讚了,新鮮鮭魚三明治可麗露的變化甜點超有巧思裡面是香草香蕉冰淇淋法陽使用的食材都是最好的,很多都是從法國空運來台的特餐的食材也讓人超驚艷,份量十足這麼棒的餐廳一定要推薦給大家：）\", \"author_id\": \"5519535d2756dd6b2dc70bb2\", \"_id\": \"52e6506505f0b99924000066\", \"restaurant_id\": \"55a51b2dc03a10241de648be\"}\n"
     ]
    }
   ],
   "source": [
    "jsonDump(blogsRawTable20160714.find_one())\n",
    "\n"
   ]
  },
  {
   "cell_type": "code",
   "execution_count": 18,
   "metadata": {
    "collapsed": true
   },
   "outputs": [
    {
     "data": {
      "text/plain": [
       "{u'_id': u'559b43a6c03a1002dd4db472',\n",
       " u'address': u'\\u9ad8\\u96c4\\u5e02\\u5927\\u6a39\\u5340\\u5b78\\u57ce\\u8def\\u4e00\\u6bb512\\u865fB1',\n",
       " u'admin_name': u'\\u5927\\u6a39\\u5340',\n",
       " u'avg_price': 0,\n",
       " u'blog_cnt': 2,\n",
       " u'city': u'\\u9ad8\\u96c4\\u5e02',\n",
       " u'cover_author': u'\\u67d4\\u85cd\\u98df\\u55ae',\n",
       " u'cover_url': u'https://lh3.ggpht.com/E_GSz7r0DCUu953AAuiZnvKluTki5EeT0n9jeS79CFe0cpeeCY56KopnVs38PFlF8ZceDPd0pUxf3HBA-LRloYbOMf5XCg=s600',\n",
       " u'last_visit': 1311408000.0,\n",
       " u'lat': 22.729668,\n",
       " u'lng': 120.406817,\n",
       " u'name': u'SST&C \\u9ad8\\u96c4\\u7fa9\\u5927\\u4e16\\u754c',\n",
       " u'opening_hours': u'\\u4eca\\u65e5\\u71df\\u696d: 11:00-22:00',\n",
       " u'phone': u'076569248',\n",
       " u'timestamp': 1464138534.062,\n",
       " u'visit_cnt': 1}"
      ]
     },
     "execution_count": 18,
     "metadata": {},
     "output_type": "execute_result"
    }
   ],
   "source": [
    "restaurantRawTable20160714.find_one()    "
   ]
  },
  {
   "cell_type": "code",
   "execution_count": 31,
   "metadata": {
    "collapsed": false
   },
   "outputs": [
    {
     "name": "stdout",
     "output_type": "stream",
     "text": [
      "27912\n"
     ]
    }
   ],
   "source": [
    "# 將pymongo.cursor.Cursor object 存成Dict\n",
    "newDic={}\n",
    "for ele in restaurantRawTable20160714.find():\n",
    "    newDic[ele['_id']]=ele\n",
    "print len(newDic)\n",
    "    "
   ]
  },
  {
   "cell_type": "code",
   "execution_count": 32,
   "metadata": {
    "collapsed": false
   },
   "outputs": [
    {
     "name": "stdout",
     "output_type": "stream",
     "text": [
      "<pymongo.cursor.Cursor object at 0x7f5ccb3fa910>\n"
     ]
    }
   ],
   "source": [
    "print usersRawTable20160714.find().limit(3)"
   ]
  },
  {
   "cell_type": "code",
   "execution_count": 29,
   "metadata": {
    "collapsed": false
   },
   "outputs": [
    {
     "name": "stdout",
     "output_type": "stream",
     "text": [
      "{u'fav_cnt': 0, u'fans_id_list': [u'573fd6a1699b6e13398d3549', u'572aefe5699b6e678fbb9132', u'5725efa8699b6e4fe7666aeb', u'56e826512756dd2568df68d1', u'56d310a6699b6e6150a1c618', u'56322a362756dd2686411a14', u'5629fa332756dd73af0099ab', u'55dc24b32756dd36279f4cc1', u'55b576f32756dd4ec6b6efdd', u'55a8cc86699b6e0dc4409787', u'55a1cb512756dd7ce11d6c1b', u'55a090ad2756dd6bd9a1def4', u'54fa5b2f2756dd10c5aa4852', u'53ea5e7ad4fdab2e7010d424', u'53e119d1d4fdab771441424b', u'53ddf83dd4fdab1472d747b1', u'53bc05f3d4fdab09f371f69b', u'53b63ebcd4fdab58faa1e463'], u'follower_cnt': 18, u'recommendation_blog_list': {}, u'display_name': u'\\u9ec3\\u6690\\u5a77', u'following_cnt': 18, u'timestamp': 1464085792.351, u'blog_id_list': [], u'post_cnt': 0, u'profile_pic_origin': u'https://graph.facebook.com/v2.0/1185986781419775/picture?width=800&height=800', u'browse_cnt': 0, u'checkin_cnt': 0, u'collection_blog_list': {}, u'_id': u'5736ee0f2756dd50e29f37f4', u'visit_blog_list': {}, u'certified': False}\n"
     ]
    }
   ],
   "source": [
    "for dic in usersRawTable20160714.find().limit(1):\n",
    "    print(dic)"
   ]
  },
  {
   "cell_type": "code",
   "execution_count": 33,
   "metadata": {
    "collapsed": false
   },
   "outputs": [
    {
     "data": {
      "text/plain": [
       "{u'n': 351, u'ok': 1}"
      ]
     },
     "execution_count": 33,
     "metadata": {},
     "output_type": "execute_result"
    }
   ],
   "source": [
    "# 刪除Collection的語法\n",
    "db.testCollection.remove({})"
   ]
  },
  {
   "cell_type": "code",
   "execution_count": 15,
   "metadata": {
    "collapsed": false
   },
   "outputs": [
    {
     "name": "stdout",
     "output_type": "stream",
     "text": [
      "Dondon\n",
      "{'a': 123, 'b': 'ccc'}\n",
      "<type 'dict'>\n"
     ]
    }
   ],
   "source": [
    "import redis\n",
    "r=redis.StrictRedis()\n",
    "r.set('myDic', {'a':123,'b':'ccc'})\n",
    "print r.get('myKey')\n",
    "print r.get('myDic')\n",
    "print type(eval(r.get('myDic')))"
   ]
  },
  {
   "cell_type": "code",
   "execution_count": null,
   "metadata": {
    "collapsed": true
   },
   "outputs": [],
   "source": [
    "\n",
    "        \n",
    "        \n",
    "uri = 'mongodb://root:1234@ http://4443c472.ngrok.io '\n",
    "client = MongoClient(uri)\n",
    "db = client['ifoodie']\n",
    "\n",
    "\n",
    "\n",
    "from pymongo import MongoClient\n",
    "client = MongoClient('http://4443c472.ngrok.io')\n",
    "db = client['ab101group4']\n",
    "\n",
    "collectionName = db.users20160718"
   ]
  }
 ],
 "metadata": {
  "kernelspec": {
   "display_name": "Python 2",
   "language": "python",
   "name": "python2"
  },
  "language_info": {
   "codemirror_mode": {
    "name": "ipython",
    "version": 2
   },
   "file_extension": ".py",
   "mimetype": "text/x-python",
   "name": "python",
   "nbconvert_exporter": "python",
   "pygments_lexer": "ipython2",
   "version": "2.7.11"
  }
 },
 "nbformat": 4,
 "nbformat_minor": 0
}
